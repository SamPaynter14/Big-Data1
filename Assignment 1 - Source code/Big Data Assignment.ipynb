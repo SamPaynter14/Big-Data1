{
 "cells": [
  {
   "cell_type": "code",
   "execution_count": 2,
   "id": "6327310f",
   "metadata": {},
   "outputs": [],
   "source": [
    "import findspark\n",
    "findspark.init()"
   ]
  },
  {
   "cell_type": "code",
   "execution_count": 3,
   "id": "21ff9f90",
   "metadata": {},
   "outputs": [
    {
     "name": "stdout",
     "output_type": "stream",
     "text": [
      "+-----+\n",
      "|hello|\n",
      "+-----+\n",
      "|spark|\n",
      "+-----+\n",
      "\n"
     ]
    }
   ],
   "source": [
    "import pyspark\n",
    "\n",
    "from pyspark.sql import SparkSession\n",
    "\n",
    "spark = SparkSession.builder.getOrCreate()\n",
    "\n",
    "df = spark.sql(\"select 'spark' as hello\")\n",
    "\n",
    "df.show()"
   ]
  },
  {
   "cell_type": "code",
   "execution_count": 4,
   "id": "2530868b",
   "metadata": {},
   "outputs": [
    {
     "name": "stdout",
     "output_type": "stream",
     "text": [
      "+------+--------------------+--------------------+---------------------+--------------------+------------------+------------------+------------------+------------------+------------------+------------------+------------------+------------------+\n",
      "|Status|Power_range_sensor_1|Power_range_sensor_2|Power_range_sensor_3 |Power_range_sensor_4|Pressure _sensor_1|Pressure _sensor_2|Pressure _sensor_3|Pressure _sensor_4|Vibration_sensor_1|Vibration_sensor_2|Vibration_sensor_3|Vibration_sensor_4|\n",
      "+------+--------------------+--------------------+---------------------+--------------------+------------------+------------------+------------------+------------------+------------------+------------------+------------------+------------------+\n",
      "|Normal|              4.5044|              0.7443|                 6.34|              1.9052|           29.5315|            0.8647|            2.2044|             6.048|           14.4659|            21.648|           15.3429|            1.2186|\n",
      "|Normal|              4.4284|              0.9073|               5.6433|              1.6232|           27.5032|            1.4704|            1.9929|            5.9856|           20.8356|            0.0646|           14.8813|            7.3483|\n",
      "|Normal|              4.5291|              1.0199|                6.113|              1.0565|           26.4271|            1.9247|             1.942|            6.7162|            5.3358|           11.0779|           25.0914|            9.2408|\n",
      "|Normal|              5.1727|              1.0007|               7.8589|              0.2765|           25.1576|             2.609|            2.9234|            6.7485|            1.9017|            1.8463|            28.664|            4.0157|\n",
      "|Normal|              5.2258|              0.6125|               7.9504|              0.1547|           24.0765|            3.2113|            4.4563|            5.8411|            0.5077|              9.37|           34.8122|           13.4966|\n",
      "|Normal|              4.8834|              0.5786|               5.6021|              0.5942|           21.0365|            2.6275|            4.3996|            5.3487|            3.6465|            9.3793|           36.2431|            11.124|\n",
      "|Normal|              5.7422|              0.8862|               5.1013|              0.9402|           15.5171|              2.92|            2.7061|            5.0366|            9.1854|            9.1116|           27.3162|            2.8526|\n",
      "|Normal|              6.5076|              0.5438|                7.153|              0.6711|           11.1481|            4.2967|            3.5731|            4.6123|           14.7705|            8.0038|           24.9714|            2.1417|\n",
      "|Normal|               5.625|              0.0403|               7.7087|              0.3214|            8.7975|            2.3293|             4.788|             5.203|            4.3388|            2.4187|           20.9187|            2.1233|\n",
      "|Normal|              4.9942|              0.4092|               6.2604|              0.6931|             6.189|            0.1537|            2.4934|            5.6573|            9.8132|           13.3581|           23.5036|            0.7478|\n",
      "|Normal|              5.9079|              0.9229|               5.3613|              0.3516|            4.0913|            1.1409|            1.4172|            4.4551|            8.1422|            9.8039|           20.7987|            0.1108|\n",
      "|Normal|              6.4215|              0.5978|               5.5765|              1.1847|            1.3588|            2.2807|            2.8529|            4.5002|             0.997|            8.7331|           27.2793|             2.114|\n",
      "|Normal|              5.9253|              0.2161|               6.2439|              0.8835|            4.0169|            1.3687|            3.9973|            5.3891|           18.1585|           14.4843|           25.4514|            5.9267|\n",
      "|Normal|              5.5783|              0.6262|               6.3556|              0.6747|            9.9827|            1.3455|            5.7394|            4.1904|           16.6814|           16.8661|           23.3743|            2.6033|\n",
      "|Normal|               5.495|              0.4971|               5.2286|              1.1902|           14.9418|            1.6808|            6.9821|            2.7535|              11.0|           16.3399|             7.136|            6.4898|\n",
      "|Normal|              5.6332|              0.5182|               4.3826|              1.8375|           19.1719|            2.3223|             6.841|            3.5384|           13.7643|            20.014|            4.0804|           20.5402|\n",
      "|Normal|              5.8438|              1.1902|               5.1022|              2.0297|           20.4563|            3.9257|            9.0478|            3.8586|           12.3057|           17.4384|           29.7256|           21.8234|\n",
      "|Normal|              5.4053|              1.8027|               5.9399|              1.5262|           18.5719|             3.669|           11.0384|            3.5604|           10.6625|           10.4963|           24.8606|           16.2476|\n",
      "|Normal|              5.2075|              1.4804|               5.8466|              1.1105|           16.7172|            2.6032|            8.9125|            4.2609|           20.7064|             7.893|            7.0806|           24.1498|\n",
      "|Normal|              6.0489|              0.9576|               5.3467|              1.5335|           15.4675|            3.7974|            7.7415|            4.0424|           23.3928|            3.3972|             17.54|           27.5655|\n",
      "+------+--------------------+--------------------+---------------------+--------------------+------------------+------------------+------------------+------------------+------------------+------------------+------------------+------------------+\n",
      "only showing top 20 rows\n",
      "\n"
     ]
    }
   ],
   "source": [
    "df = spark.read.csv(\"nuclear_plants_small_dataset.csv\",inferSchema=True,header=True)\n",
    "df.show()"
   ]
  },
  {
   "cell_type": "code",
   "execution_count": 5,
   "id": "20dd0293",
   "metadata": {},
   "outputs": [
    {
     "name": "stdout",
     "output_type": "stream",
     "text": [
      "root\n",
      " |-- Status: string (nullable = true)\n",
      " |-- Power_range_sensor_1: double (nullable = true)\n",
      " |-- Power_range_sensor_2: double (nullable = true)\n",
      " |-- Power_range_sensor_3 : double (nullable = true)\n",
      " |-- Power_range_sensor_4: double (nullable = true)\n",
      " |-- Pressure _sensor_1: double (nullable = true)\n",
      " |-- Pressure _sensor_2: double (nullable = true)\n",
      " |-- Pressure _sensor_3: double (nullable = true)\n",
      " |-- Pressure _sensor_4: double (nullable = true)\n",
      " |-- Vibration_sensor_1: double (nullable = true)\n",
      " |-- Vibration_sensor_2: double (nullable = true)\n",
      " |-- Vibration_sensor_3: double (nullable = true)\n",
      " |-- Vibration_sensor_4: double (nullable = true)\n",
      "\n"
     ]
    }
   ],
   "source": [
    "df.printSchema()"
   ]
  },
  {
   "cell_type": "code",
   "execution_count": 6,
   "id": "69ff2eb0",
   "metadata": {},
   "outputs": [
    {
     "name": "stdout",
     "output_type": "stream",
     "text": [
      "Requirement already satisfied: pandas in c:\\users\\sampa\\anaconda3\\lib\\site-packages (1.2.4)\n",
      "Requirement already satisfied: pytz>=2017.3 in c:\\users\\sampa\\anaconda3\\lib\\site-packages (from pandas) (2021.1)\n",
      "Requirement already satisfied: numpy>=1.16.5 in c:\\users\\sampa\\anaconda3\\lib\\site-packages (from pandas) (1.20.1)\n",
      "Requirement already satisfied: python-dateutil>=2.7.3 in c:\\users\\sampa\\anaconda3\\lib\\site-packages (from pandas) (2.8.1)\n",
      "Requirement already satisfied: six>=1.5 in c:\\users\\sampa\\anaconda3\\lib\\site-packages (from python-dateutil>=2.7.3->pandas) (1.15.0)\n",
      "Requirement already satisfied: matplotlib in c:\\users\\sampa\\anaconda3\\lib\\site-packages (3.3.4)\n",
      "Requirement already satisfied: pillow>=6.2.0 in c:\\users\\sampa\\anaconda3\\lib\\site-packages (from matplotlib) (8.2.0)\n",
      "Requirement already satisfied: kiwisolver>=1.0.1 in c:\\users\\sampa\\anaconda3\\lib\\site-packages (from matplotlib) (1.3.1)\n",
      "Requirement already satisfied: numpy>=1.15 in c:\\users\\sampa\\anaconda3\\lib\\site-packages (from matplotlib) (1.20.1)\n",
      "Requirement already satisfied: python-dateutil>=2.1 in c:\\users\\sampa\\anaconda3\\lib\\site-packages (from matplotlib) (2.8.1)\n",
      "Requirement already satisfied: cycler>=0.10 in c:\\users\\sampa\\anaconda3\\lib\\site-packages (from matplotlib) (0.10.0)\n",
      "Requirement already satisfied: pyparsing!=2.0.4,!=2.1.2,!=2.1.6,>=2.0.3 in c:\\users\\sampa\\anaconda3\\lib\\site-packages (from matplotlib) (2.4.7)\n",
      "Requirement already satisfied: six in c:\\users\\sampa\\anaconda3\\lib\\site-packages (from cycler>=0.10->matplotlib) (1.15.0)\n",
      "Requirement already satisfied: seaborn in c:\\users\\sampa\\anaconda3\\lib\\site-packages (0.11.1)\n",
      "Requirement already satisfied: pandas>=0.23 in c:\\users\\sampa\\anaconda3\\lib\\site-packages (from seaborn) (1.2.4)\n",
      "Requirement already satisfied: matplotlib>=2.2 in c:\\users\\sampa\\anaconda3\\lib\\site-packages (from seaborn) (3.3.4)\n",
      "Requirement already satisfied: numpy>=1.15 in c:\\users\\sampa\\anaconda3\\lib\\site-packages (from seaborn) (1.20.1)\n",
      "Requirement already satisfied: scipy>=1.0 in c:\\users\\sampa\\anaconda3\\lib\\site-packages (from seaborn) (1.6.2)\n",
      "Requirement already satisfied: pillow>=6.2.0 in c:\\users\\sampa\\anaconda3\\lib\\site-packages (from matplotlib>=2.2->seaborn) (8.2.0)\n",
      "Requirement already satisfied: kiwisolver>=1.0.1 in c:\\users\\sampa\\anaconda3\\lib\\site-packages (from matplotlib>=2.2->seaborn) (1.3.1)\n",
      "Requirement already satisfied: python-dateutil>=2.1 in c:\\users\\sampa\\anaconda3\\lib\\site-packages (from matplotlib>=2.2->seaborn) (2.8.1)\n",
      "Requirement already satisfied: cycler>=0.10 in c:\\users\\sampa\\anaconda3\\lib\\site-packages (from matplotlib>=2.2->seaborn) (0.10.0)\n",
      "Requirement already satisfied: pyparsing!=2.0.4,!=2.1.2,!=2.1.6,>=2.0.3 in c:\\users\\sampa\\anaconda3\\lib\\site-packages (from matplotlib>=2.2->seaborn) (2.4.7)\n",
      "Requirement already satisfied: six in c:\\users\\sampa\\anaconda3\\lib\\site-packages (from cycler>=0.10->matplotlib>=2.2->seaborn) (1.15.0)\n",
      "Requirement already satisfied: pytz>=2017.3 in c:\\users\\sampa\\anaconda3\\lib\\site-packages (from pandas>=0.23->seaborn) (2021.1)\n"
     ]
    }
   ],
   "source": [
    "!pip install pandas\n",
    "!pip install matplotlib\n",
    "!pip install seaborn"
   ]
  },
  {
   "cell_type": "code",
   "execution_count": 7,
   "id": "dd600535",
   "metadata": {},
   "outputs": [
    {
     "data": {
      "text/plain": [
       "996"
      ]
     },
     "execution_count": 7,
     "metadata": {},
     "output_type": "execute_result"
    }
   ],
   "source": [
    "totalentries = df.count()\n",
    "totalentries\n"
   ]
  },
  {
   "cell_type": "code",
   "execution_count": 8,
   "id": "9fbb30b7",
   "metadata": {},
   "outputs": [],
   "source": [
    "from pyspark.sql.functions import isnan, when, count, col\n",
    "\n",
    "import pandas as pd\n",
    "import numpy as np\n",
    "import matplotlib as plt\n",
    "import seaborn as sns\n"
   ]
  },
  {
   "cell_type": "code",
   "execution_count": 9,
   "id": "6de82325",
   "metadata": {},
   "outputs": [
    {
     "name": "stdout",
     "output_type": "stream",
     "text": [
      "+------+--------------------+--------------------+---------------------+--------------------+------------------+------------------+------------------+------------------+------------------+------------------+------------------+------------------+\n",
      "|Status|Power_range_sensor_1|Power_range_sensor_2|Power_range_sensor_3 |Power_range_sensor_4|Pressure _sensor_1|Pressure _sensor_2|Pressure _sensor_3|Pressure _sensor_4|Vibration_sensor_1|Vibration_sensor_2|Vibration_sensor_3|Vibration_sensor_4|\n",
      "+------+--------------------+--------------------+---------------------+--------------------+------------------+------------------+------------------+------------------+------------------+------------------+------------------+------------------+\n",
      "|     0|                   0|                   0|                    0|                   0|                 0|                 0|                 0|                 0|                 0|                 0|                 0|                 0|\n",
      "+------+--------------------+--------------------+---------------------+--------------------+------------------+------------------+------------------+------------------+------------------+------------------+------------------+------------------+\n",
      "\n"
     ]
    }
   ],
   "source": [
    "df.select([count(when(isnan(c) | col(c).isNull(), c)).alias(c) for c in df.columns]).show()"
   ]
  },
  {
   "cell_type": "code",
   "execution_count": 10,
   "id": "624d36f8",
   "metadata": {},
   "outputs": [
    {
     "name": "stdout",
     "output_type": "stream",
     "text": [
      "+--------+-------------------------+-------------------------+--------------------------+-------------------------+-----------------------+-----------------------+-----------------------+-----------------------+-----------------------+-----------------------+-----------------------+-----------------------+\n",
      "|  Status|avg(Power_range_sensor_1)|avg(Power_range_sensor_2)|avg(Power_range_sensor_3 )|avg(Power_range_sensor_4)|avg(Pressure _sensor_1)|avg(Pressure _sensor_2)|avg(Pressure _sensor_3)|avg(Pressure _sensor_4)|avg(Vibration_sensor_1)|avg(Vibration_sensor_2)|avg(Vibration_sensor_3)|avg(Vibration_sensor_4)|\n",
      "+--------+-------------------------+-------------------------+--------------------------+-------------------------+-----------------------+-----------------------+-----------------------+-----------------------+-----------------------+-----------------------+-----------------------+-----------------------+\n",
      "|Abnormal|        4.396694975903612|        5.914042891566265|         9.164170212851408|         6.00914597991968|     14.600728132530124|     2.7402695381526083|     5.5751150803212814|       4.40782413253012|      7.887688803212859|     10.303569907630527|      10.93815894779115|        8.9420846746988|\n",
      "|  Normal|        5.602452811244976|        6.844503413654616|         9.292054016064245|        8.701398192771098|     13.797525502008051|     3.4156463855421695|      5.923352610441759|      5.586180120481923|      8.441436947791166|      9.699615863453822|     19.437804417670666|     10.925097590361439|\n",
      "+--------+-------------------------+-------------------------+--------------------------+-------------------------+-----------------------+-----------------------+-----------------------+-----------------------+-----------------------+-----------------------+-----------------------+-----------------------+\n",
      "\n"
     ]
    }
   ],
   "source": [
    "df.groupBy(\"Status\").mean().show()"
   ]
  },
  {
   "cell_type": "code",
   "execution_count": 11,
   "id": "6e2d04a8",
   "metadata": {},
   "outputs": [
    {
     "name": "stdout",
     "output_type": "stream",
     "text": [
      "+--------+-------------------------+-------------------------+--------------------------+-------------------------+-----------------------+-----------------------+-----------------------+-----------------------+-----------------------+-----------------------+-----------------------+-----------------------+\n",
      "|  Status|min(Power_range_sensor_1)|min(Power_range_sensor_2)|min(Power_range_sensor_3 )|min(Power_range_sensor_4)|min(Pressure _sensor_1)|min(Pressure _sensor_2)|min(Pressure _sensor_3)|min(Pressure _sensor_4)|min(Vibration_sensor_1)|min(Vibration_sensor_2)|min(Vibration_sensor_3)|min(Vibration_sensor_4)|\n",
      "+--------+-------------------------+-------------------------+--------------------------+-------------------------+-----------------------+-----------------------+-----------------------+-----------------------+-----------------------+-----------------------+-----------------------+-----------------------+\n",
      "|Abnormal|                   0.0082|                   0.3891|                  2.583966|                   0.0623|               0.131478|               0.008262|               0.001224|               0.029478|                    0.0|                 0.0185|               0.131784|                 0.0092|\n",
      "|  Normal|                   0.0851|                   0.0403|                    4.3826|                   0.1547|                 0.0248|                 0.0104|                 0.0774|                 0.0058|                 0.0092|                 0.0277|                 0.0646|                 0.0831|\n",
      "+--------+-------------------------+-------------------------+--------------------------+-------------------------+-----------------------+-----------------------+-----------------------+-----------------------+-----------------------+-----------------------+-----------------------+-----------------------+\n",
      "\n"
     ]
    }
   ],
   "source": [
    "df.groupBy(\"Status\").min().show()"
   ]
  },
  {
   "cell_type": "code",
   "execution_count": 12,
   "id": "5423d330",
   "metadata": {},
   "outputs": [
    {
     "name": "stdout",
     "output_type": "stream",
     "text": [
      "+--------+-------------------------+-------------------------+--------------------------+-------------------------+-----------------------+-----------------------+-----------------------+-----------------------+-----------------------+-----------------------+-----------------------+-----------------------+\n",
      "|  Status|max(Power_range_sensor_1)|max(Power_range_sensor_2)|max(Power_range_sensor_3 )|max(Power_range_sensor_4)|max(Pressure _sensor_1)|max(Pressure _sensor_2)|max(Pressure _sensor_3)|max(Pressure _sensor_4)|max(Vibration_sensor_1)|max(Vibration_sensor_2)|max(Vibration_sensor_3)|max(Vibration_sensor_4)|\n",
      "+--------+-------------------------+-------------------------+--------------------------+-------------------------+-----------------------+-----------------------+-----------------------+-----------------------+-----------------------+-----------------------+-----------------------+-----------------------+\n",
      "|Abnormal|                10.923078|                  10.1541|                   15.7599|                17.235858|                67.9794|              10.242738|                11.7724|               16.55562|              36.186438|              34.331466|              36.911454|                26.4669|\n",
      "|  Normal|                  12.1298|                  11.9284|                   14.0982|                  16.3568|                56.8562|                 9.2212|                12.6475|                15.1085|                31.4981|                34.8676|                53.2384|                43.2314|\n",
      "+--------+-------------------------+-------------------------+--------------------------+-------------------------+-----------------------+-----------------------+-----------------------+-----------------------+-----------------------+-----------------------+-----------------------+-----------------------+\n",
      "\n"
     ]
    }
   ],
   "source": [
    "df.groupBy(\"Status\").max().show()"
   ]
  },
  {
   "cell_type": "code",
   "execution_count": 13,
   "id": "05d120f9",
   "metadata": {},
   "outputs": [
    {
     "data": {
      "text/html": [
       "<div>\n",
       "<style scoped>\n",
       "    .dataframe tbody tr th:only-of-type {\n",
       "        vertical-align: middle;\n",
       "    }\n",
       "\n",
       "    .dataframe tbody tr th {\n",
       "        vertical-align: top;\n",
       "    }\n",
       "\n",
       "    .dataframe thead th {\n",
       "        text-align: right;\n",
       "    }\n",
       "</style>\n",
       "<table border=\"1\" class=\"dataframe\">\n",
       "  <thead>\n",
       "    <tr style=\"text-align: right;\">\n",
       "      <th></th>\n",
       "      <th>Power_range_sensor_1</th>\n",
       "      <th>Power_range_sensor_2</th>\n",
       "      <th>Power_range_sensor_3</th>\n",
       "      <th>Power_range_sensor_4</th>\n",
       "      <th>Pressure _sensor_1</th>\n",
       "      <th>Pressure _sensor_2</th>\n",
       "      <th>Pressure _sensor_3</th>\n",
       "      <th>Pressure _sensor_4</th>\n",
       "      <th>Vibration_sensor_1</th>\n",
       "      <th>Vibration_sensor_2</th>\n",
       "      <th>Vibration_sensor_3</th>\n",
       "      <th>Vibration_sensor_4</th>\n",
       "    </tr>\n",
       "    <tr>\n",
       "      <th>Status</th>\n",
       "      <th></th>\n",
       "      <th></th>\n",
       "      <th></th>\n",
       "      <th></th>\n",
       "      <th></th>\n",
       "      <th></th>\n",
       "      <th></th>\n",
       "      <th></th>\n",
       "      <th></th>\n",
       "      <th></th>\n",
       "      <th></th>\n",
       "      <th></th>\n",
       "    </tr>\n",
       "  </thead>\n",
       "  <tbody>\n",
       "    <tr>\n",
       "      <th>Abnormal</th>\n",
       "      <td>5.0281</td>\n",
       "      <td>3.2648</td>\n",
       "      <td>12.3029</td>\n",
       "      <td>9.719376</td>\n",
       "      <td>14.1335</td>\n",
       "      <td>0.60843</td>\n",
       "      <td>7.9299</td>\n",
       "      <td>0.8392</td>\n",
       "      <td>3.3418</td>\n",
       "      <td>10.06587</td>\n",
       "      <td>4.2188</td>\n",
       "      <td>14.491548</td>\n",
       "    </tr>\n",
       "    <tr>\n",
       "      <th>Normal</th>\n",
       "      <td>4.4284</td>\n",
       "      <td>6.8005</td>\n",
       "      <td>10.5588</td>\n",
       "      <td>8.079500</td>\n",
       "      <td>3.0697</td>\n",
       "      <td>3.11300</td>\n",
       "      <td>5.7394</td>\n",
       "      <td>8.4143</td>\n",
       "      <td>8.8992</td>\n",
       "      <td>4.08040</td>\n",
       "      <td>3.2310</td>\n",
       "      <td>3.766500</td>\n",
       "    </tr>\n",
       "  </tbody>\n",
       "</table>\n",
       "</div>"
      ],
      "text/plain": [
       "          Power_range_sensor_1  Power_range_sensor_2  Power_range_sensor_3   \\\n",
       "Status                                                                        \n",
       "Abnormal                5.0281                3.2648                12.3029   \n",
       "Normal                  4.4284                6.8005                10.5588   \n",
       "\n",
       "          Power_range_sensor_4  Pressure _sensor_1  Pressure _sensor_2  \\\n",
       "Status                                                                   \n",
       "Abnormal              9.719376             14.1335             0.60843   \n",
       "Normal                8.079500              3.0697             3.11300   \n",
       "\n",
       "          Pressure _sensor_3  Pressure _sensor_4  Vibration_sensor_1  \\\n",
       "Status                                                                 \n",
       "Abnormal              7.9299              0.8392              3.3418   \n",
       "Normal                5.7394              8.4143              8.8992   \n",
       "\n",
       "          Vibration_sensor_2  Vibration_sensor_3  Vibration_sensor_4  \n",
       "Status                                                                \n",
       "Abnormal            10.06587              4.2188           14.491548  \n",
       "Normal               4.08040              3.2310            3.766500  "
      ]
     },
     "execution_count": 13,
     "metadata": {},
     "output_type": "execute_result"
    }
   ],
   "source": [
    "df2 = pd.read_csv(\"nuclear_plants_small_dataset.csv\")\n",
    "df2.groupby(['Status']).agg(lambda x:x.value_counts().index[0])"
   ]
  },
  {
   "cell_type": "code",
   "execution_count": 14,
   "id": "85266a9a",
   "metadata": {},
   "outputs": [
    {
     "name": "stdout",
     "output_type": "stream",
     "text": [
      "+--------+----------------------------+\n",
      "|  Status|stddev(Power_range_sensor_1)|\n",
      "+--------+----------------------------+\n",
      "|Abnormal|          2.4902791246752103|\n",
      "|  Normal|          2.8938476968280042|\n",
      "+--------+----------------------------+\n",
      "\n"
     ]
    }
   ],
   "source": [
    "df.groupBy(\"Status\").agg({'Power_range_sensor_1':'stddev'}).show()"
   ]
  },
  {
   "cell_type": "code",
   "execution_count": 15,
   "id": "7810256b",
   "metadata": {},
   "outputs": [
    {
     "name": "stdout",
     "output_type": "stream",
     "text": [
      "+--------+----------------------------+\n",
      "|  Status|stddev(Power_range_sensor_2)|\n",
      "+--------+----------------------------+\n",
      "|Abnormal|          2.3221603879385753|\n",
      "|  Normal|          2.2091924318296754|\n",
      "+--------+----------------------------+\n",
      "\n"
     ]
    }
   ],
   "source": [
    "df.groupBy(\"Status\").agg({'Power_range_sensor_2':'stddev'}).show()"
   ]
  },
  {
   "cell_type": "code",
   "execution_count": 16,
   "id": "1dccc617",
   "metadata": {},
   "outputs": [
    {
     "name": "stdout",
     "output_type": "stream",
     "text": [
      "+--------+-----------------------------+\n",
      "|  Status|stddev(Power_range_sensor_3 )|\n",
      "+--------+-----------------------------+\n",
      "|Abnormal|            2.941907207638418|\n",
      "|  Normal|           2.0429607681487942|\n",
      "+--------+-----------------------------+\n",
      "\n"
     ]
    }
   ],
   "source": [
    "df.groupBy(\"Status\").agg({'Power_range_sensor_3 ':'stddev'}).show()"
   ]
  },
  {
   "cell_type": "code",
   "execution_count": 17,
   "id": "26b31616",
   "metadata": {},
   "outputs": [
    {
     "name": "stdout",
     "output_type": "stream",
     "text": [
      "+--------+----------------------------+\n",
      "|  Status|stddev(Power_range_sensor_4)|\n",
      "+--------+----------------------------+\n",
      "|Abnormal|            3.77901397505663|\n",
      "|  Normal|           4.478168549085763|\n",
      "+--------+----------------------------+\n",
      "\n"
     ]
    }
   ],
   "source": [
    "df.groupBy(\"Status\").agg({'Power_range_sensor_4':'stddev'}).show()"
   ]
  },
  {
   "cell_type": "code",
   "execution_count": 18,
   "id": "456b8143",
   "metadata": {},
   "outputs": [
    {
     "name": "stdout",
     "output_type": "stream",
     "text": [
      "+--------+--------------------------+\n",
      "|  Status|stddev(Pressure _sensor_1)|\n",
      "+--------+--------------------------+\n",
      "|Abnormal|        11.594206503440402|\n",
      "|  Normal|        11.763187215747637|\n",
      "+--------+--------------------------+\n",
      "\n"
     ]
    }
   ],
   "source": [
    "df.groupBy(\"Status\").agg({'Pressure _sensor_1':'stddev'}).show()"
   ]
  },
  {
   "cell_type": "code",
   "execution_count": 19,
   "id": "8b7879d6",
   "metadata": {},
   "outputs": [
    {
     "name": "stdout",
     "output_type": "stream",
     "text": [
      "+--------+--------------------------+\n",
      "|  Status|stddev(Pressure _sensor_2)|\n",
      "+--------+--------------------------+\n",
      "|Abnormal|         2.003602192756939|\n",
      "|  Normal|         2.192412604031201|\n",
      "+--------+--------------------------+\n",
      "\n"
     ]
    }
   ],
   "source": [
    "df.groupBy(\"Status\").agg({'Pressure _sensor_2':'stddev'}).show()"
   ]
  },
  {
   "cell_type": "code",
   "execution_count": 20,
   "id": "ca84b3e7",
   "metadata": {},
   "outputs": [
    {
     "name": "stdout",
     "output_type": "stream",
     "text": [
      "+--------+--------------------------+\n",
      "|  Status|stddev(Pressure _sensor_3)|\n",
      "+--------+--------------------------+\n",
      "|Abnormal|         2.493141936940207|\n",
      "|  Normal|        2.5493232663633996|\n",
      "+--------+--------------------------+\n",
      "\n"
     ]
    }
   ],
   "source": [
    "df.groupBy(\"Status\").agg({'Pressure _sensor_3':'stddev'}).show()"
   ]
  },
  {
   "cell_type": "code",
   "execution_count": 21,
   "id": "ab56dd7f",
   "metadata": {},
   "outputs": [
    {
     "name": "stdout",
     "output_type": "stream",
     "text": [
      "+--------+--------------------------+\n",
      "|  Status|stddev(Pressure _sensor_4)|\n",
      "+--------+--------------------------+\n",
      "|Abnormal|         3.958432116092332|\n",
      "|  Normal|        4.2863366514922685|\n",
      "+--------+--------------------------+\n",
      "\n"
     ]
    }
   ],
   "source": [
    "df.groupBy(\"Status\").agg({'Pressure _sensor_4':'stddev'}).show()"
   ]
  },
  {
   "cell_type": "code",
   "execution_count": 22,
   "id": "8f621589",
   "metadata": {},
   "outputs": [
    {
     "name": "stdout",
     "output_type": "stream",
     "text": [
      "+--------+--------------------------+\n",
      "|  Status|stddev(Vibration_sensor_1)|\n",
      "+--------+--------------------------+\n",
      "|Abnormal|         6.132977734039759|\n",
      "|  Normal|         6.207088529719471|\n",
      "+--------+--------------------------+\n",
      "\n"
     ]
    }
   ],
   "source": [
    "df.groupBy(\"Status\").agg({'Vibration_sensor_1':'stddev'}).show()"
   ]
  },
  {
   "cell_type": "code",
   "execution_count": 23,
   "id": "d9130a7e",
   "metadata": {},
   "outputs": [
    {
     "name": "stdout",
     "output_type": "stream",
     "text": [
      "+--------+--------------------------+\n",
      "|  Status|stddev(Vibration_sensor_2)|\n",
      "+--------+--------------------------+\n",
      "|Abnormal|           7.6488892147822|\n",
      "|  Normal|         7.004331303275537|\n",
      "+--------+--------------------------+\n",
      "\n"
     ]
    }
   ],
   "source": [
    "df.groupBy(\"Status\").agg({'Vibration_sensor_2':'stddev'}).show()"
   ]
  },
  {
   "cell_type": "code",
   "execution_count": 24,
   "id": "74e7658f",
   "metadata": {},
   "outputs": [
    {
     "name": "stdout",
     "output_type": "stream",
     "text": [
      "+--------+--------------------------+\n",
      "|  Status|stddev(Vibration_sensor_3)|\n",
      "+--------+--------------------------+\n",
      "|Abnormal|         8.165753868548268|\n",
      "|  Normal|        13.897346608819056|\n",
      "+--------+--------------------------+\n",
      "\n"
     ]
    }
   ],
   "source": [
    "df.groupBy(\"Status\").agg({'Vibration_sensor_3':'stddev'}).show()"
   ]
  },
  {
   "cell_type": "code",
   "execution_count": 25,
   "id": "894cb071",
   "metadata": {},
   "outputs": [
    {
     "name": "stdout",
     "output_type": "stream",
     "text": [
      "+--------+--------------------------+\n",
      "|  Status|stddev(Vibration_sensor_4)|\n",
      "+--------+--------------------------+\n",
      "|Abnormal|         6.073995607127157|\n",
      "|  Normal|         8.204228877149035|\n",
      "+--------+--------------------------+\n",
      "\n"
     ]
    }
   ],
   "source": [
    "df.groupBy(\"Status\").agg({'Vibration_sensor_4':'stddev'}).show()"
   ]
  },
  {
   "cell_type": "code",
   "execution_count": 26,
   "id": "c4d54f7d",
   "metadata": {},
   "outputs": [],
   "source": [
    "import pyspark.sql.functions as F\n",
    "from pyspark.sql.functions import count, col"
   ]
  },
  {
   "cell_type": "code",
   "execution_count": 27,
   "id": "7c252ff6",
   "metadata": {},
   "outputs": [
    {
     "name": "stdout",
     "output_type": "stream",
     "text": [
      "+--------+------+\n",
      "|  Status|median|\n",
      "+--------+------+\n",
      "|Abnormal|4.5053|\n",
      "|  Normal|5.1727|\n",
      "+--------+------+\n",
      "\n"
     ]
    }
   ],
   "source": [
    "df.groupby(\"Status\").agg(F.percentile_approx(\"Power_range_sensor_1\", 0.5).alias(\"median\")).show()"
   ]
  },
  {
   "cell_type": "code",
   "execution_count": 28,
   "id": "1d357464",
   "metadata": {},
   "outputs": [
    {
     "name": "stdout",
     "output_type": "stream",
     "text": [
      "+--------+--------+\n",
      "|  Status|  median|\n",
      "+--------+--------+\n",
      "|Abnormal|5.929872|\n",
      "|  Normal|  6.6998|\n",
      "+--------+--------+\n",
      "\n"
     ]
    }
   ],
   "source": [
    "df.groupby(\"Status\").agg(F.percentile_approx(\"Power_range_sensor_2\", 0.5).alias(\"median\")).show()"
   ]
  },
  {
   "cell_type": "code",
   "execution_count": 29,
   "id": "e5e5caef",
   "metadata": {},
   "outputs": [
    {
     "name": "stdout",
     "output_type": "stream",
     "text": [
      "+--------+------+\n",
      "|  Status|median|\n",
      "+--------+------+\n",
      "|Abnormal|9.4666|\n",
      "|  Normal|9.2624|\n",
      "+--------+------+\n",
      "\n"
     ]
    }
   ],
   "source": [
    "df.groupby(\"Status\").agg(F.percentile_approx(\"Power_range_sensor_3 \", 0.5).alias(\"median\")).show()"
   ]
  },
  {
   "cell_type": "code",
   "execution_count": 30,
   "id": "10264cb5",
   "metadata": {},
   "outputs": [
    {
     "name": "stdout",
     "output_type": "stream",
     "text": [
      "+--------+------+\n",
      "|  Status|median|\n",
      "+--------+------+\n",
      "|Abnormal|5.3952|\n",
      "|  Normal|9.2404|\n",
      "+--------+------+\n",
      "\n"
     ]
    }
   ],
   "source": [
    "df.groupby(\"Status\").agg(F.percentile_approx(\"Power_range_sensor_4\", 0.5).alias(\"median\")).show()"
   ]
  },
  {
   "cell_type": "code",
   "execution_count": 31,
   "id": "1026a9b7",
   "metadata": {},
   "outputs": [
    {
     "name": "stdout",
     "output_type": "stream",
     "text": [
      "+--------+-------+\n",
      "|  Status| median|\n",
      "+--------+-------+\n",
      "|Abnormal|12.5912|\n",
      "|  Normal|10.6274|\n",
      "+--------+-------+\n",
      "\n"
     ]
    }
   ],
   "source": [
    "df.groupby(\"Status\").agg(F.percentile_approx(\"Pressure _sensor_1\", 0.5).alias(\"median\")).show()"
   ]
  },
  {
   "cell_type": "code",
   "execution_count": 32,
   "id": "ac5b5cdb",
   "metadata": {},
   "outputs": [
    {
     "name": "stdout",
     "output_type": "stream",
     "text": [
      "+--------+--------+\n",
      "|  Status|  median|\n",
      "+--------+--------+\n",
      "|Abnormal|2.380578|\n",
      "|  Normal|   3.113|\n",
      "+--------+--------+\n",
      "\n"
     ]
    }
   ],
   "source": [
    "df.groupby(\"Status\").agg(F.percentile_approx(\"Pressure _sensor_2\", 0.5).alias(\"median\")).show()"
   ]
  },
  {
   "cell_type": "code",
   "execution_count": 33,
   "id": "58ec0488",
   "metadata": {},
   "outputs": [
    {
     "name": "stdout",
     "output_type": "stream",
     "text": [
      "+--------+--------+\n",
      "|  Status|  median|\n",
      "+--------+--------+\n",
      "|Abnormal|5.743314|\n",
      "|  Normal|  5.7394|\n",
      "+--------+--------+\n",
      "\n"
     ]
    }
   ],
   "source": [
    "df.groupby(\"Status\").agg(F.percentile_approx(\"Pressure _sensor_3\", 0.5).alias(\"median\")).show()"
   ]
  },
  {
   "cell_type": "code",
   "execution_count": 34,
   "id": "9e987d4a",
   "metadata": {},
   "outputs": [
    {
     "name": "stdout",
     "output_type": "stream",
     "text": [
      "+--------+------+\n",
      "|  Status|median|\n",
      "+--------+------+\n",
      "|Abnormal|3.3072|\n",
      "|  Normal|4.2574|\n",
      "+--------+------+\n",
      "\n"
     ]
    }
   ],
   "source": [
    "df.groupby(\"Status\").agg(F.percentile_approx(\"Pressure _sensor_4\", 0.5).alias(\"median\")).show()"
   ]
  },
  {
   "cell_type": "code",
   "execution_count": 35,
   "id": "7cd1f134",
   "metadata": {},
   "outputs": [
    {
     "name": "stdout",
     "output_type": "stream",
     "text": [
      "+--------+------+\n",
      "|  Status|median|\n",
      "+--------+------+\n",
      "|Abnormal|6.5175|\n",
      "|  Normal|7.4222|\n",
      "+--------+------+\n",
      "\n"
     ]
    }
   ],
   "source": [
    "df.groupby(\"Status\").agg(F.percentile_approx(\"Vibration_sensor_1\", 0.5).alias(\"median\")).show()"
   ]
  },
  {
   "cell_type": "code",
   "execution_count": 36,
   "id": "c7af44c9",
   "metadata": {},
   "outputs": [
    {
     "name": "stdout",
     "output_type": "stream",
     "text": [
      "+--------+------+\n",
      "|  Status|median|\n",
      "+--------+------+\n",
      "|Abnormal|8.9085|\n",
      "|  Normal|8.6684|\n",
      "+--------+------+\n",
      "\n"
     ]
    }
   ],
   "source": [
    "df.groupby(\"Status\").agg(F.percentile_approx(\"Vibration_sensor_2\", 0.5).alias(\"median\")).show()"
   ]
  },
  {
   "cell_type": "code",
   "execution_count": 37,
   "id": "c4c23a20",
   "metadata": {},
   "outputs": [
    {
     "name": "stdout",
     "output_type": "stream",
     "text": [
      "+--------+--------+\n",
      "|  Status|  median|\n",
      "+--------+--------+\n",
      "|Abnormal|8.983038|\n",
      "|  Normal| 16.4414|\n",
      "+--------+--------+\n",
      "\n"
     ]
    }
   ],
   "source": [
    "df.groupby(\"Status\").agg(F.percentile_approx(\"Vibration_sensor_3\", 0.5).alias(\"median\")).show()"
   ]
  },
  {
   "cell_type": "code",
   "execution_count": 38,
   "id": "26d2f218",
   "metadata": {},
   "outputs": [
    {
     "name": "stdout",
     "output_type": "stream",
     "text": [
      "+--------+------+\n",
      "|  Status|median|\n",
      "+--------+------+\n",
      "|Abnormal|8.1145|\n",
      "|  Normal|9.4347|\n",
      "+--------+------+\n",
      "\n"
     ]
    }
   ],
   "source": [
    "df.groupby(\"Status\").agg(F.percentile_approx(\"Vibration_sensor_4\", 0.5).alias(\"median\")).show()"
   ]
  },
  {
   "cell_type": "code",
   "execution_count": 39,
   "id": "eb29d8b8",
   "metadata": {},
   "outputs": [
    {
     "data": {
      "text/html": [
       "<div>\n",
       "<style scoped>\n",
       "    .dataframe tbody tr th:only-of-type {\n",
       "        vertical-align: middle;\n",
       "    }\n",
       "\n",
       "    .dataframe tbody tr th {\n",
       "        vertical-align: top;\n",
       "    }\n",
       "\n",
       "    .dataframe thead th {\n",
       "        text-align: right;\n",
       "    }\n",
       "</style>\n",
       "<table border=\"1\" class=\"dataframe\">\n",
       "  <thead>\n",
       "    <tr style=\"text-align: right;\">\n",
       "      <th></th>\n",
       "      <th>Power_range_sensor_1</th>\n",
       "      <th>Power_range_sensor_2</th>\n",
       "      <th>Power_range_sensor_3</th>\n",
       "      <th>Power_range_sensor_4</th>\n",
       "      <th>Pressure _sensor_1</th>\n",
       "      <th>Pressure _sensor_2</th>\n",
       "      <th>Pressure _sensor_3</th>\n",
       "      <th>Pressure _sensor_4</th>\n",
       "      <th>Vibration_sensor_1</th>\n",
       "      <th>Vibration_sensor_2</th>\n",
       "      <th>Vibration_sensor_3</th>\n",
       "      <th>Vibration_sensor_4</th>\n",
       "    </tr>\n",
       "    <tr>\n",
       "      <th>Status</th>\n",
       "      <th></th>\n",
       "      <th></th>\n",
       "      <th></th>\n",
       "      <th></th>\n",
       "      <th></th>\n",
       "      <th></th>\n",
       "      <th></th>\n",
       "      <th></th>\n",
       "      <th></th>\n",
       "      <th></th>\n",
       "      <th></th>\n",
       "      <th></th>\n",
       "    </tr>\n",
       "  </thead>\n",
       "  <tbody>\n",
       "    <tr>\n",
       "      <th>Abnormal</th>\n",
       "      <td>6.201490</td>\n",
       "      <td>5.392429</td>\n",
       "      <td>8.654818</td>\n",
       "      <td>14.280947</td>\n",
       "      <td>134.425624</td>\n",
       "      <td>4.014422</td>\n",
       "      <td>6.215757</td>\n",
       "      <td>15.669185</td>\n",
       "      <td>37.613416</td>\n",
       "      <td>58.505506</td>\n",
       "      <td>66.679536</td>\n",
       "      <td>36.893423</td>\n",
       "    </tr>\n",
       "    <tr>\n",
       "      <th>Normal</th>\n",
       "      <td>8.374354</td>\n",
       "      <td>4.880531</td>\n",
       "      <td>4.173689</td>\n",
       "      <td>20.053994</td>\n",
       "      <td>138.372573</td>\n",
       "      <td>4.806673</td>\n",
       "      <td>6.499049</td>\n",
       "      <td>18.372682</td>\n",
       "      <td>38.527948</td>\n",
       "      <td>49.060657</td>\n",
       "      <td>193.136243</td>\n",
       "      <td>67.309371</td>\n",
       "    </tr>\n",
       "  </tbody>\n",
       "</table>\n",
       "</div>"
      ],
      "text/plain": [
       "          Power_range_sensor_1  Power_range_sensor_2  Power_range_sensor_3   \\\n",
       "Status                                                                        \n",
       "Abnormal              6.201490              5.392429               8.654818   \n",
       "Normal                8.374354              4.880531               4.173689   \n",
       "\n",
       "          Power_range_sensor_4  Pressure _sensor_1  Pressure _sensor_2  \\\n",
       "Status                                                                   \n",
       "Abnormal             14.280947          134.425624            4.014422   \n",
       "Normal               20.053994          138.372573            4.806673   \n",
       "\n",
       "          Pressure _sensor_3  Pressure _sensor_4  Vibration_sensor_1  \\\n",
       "Status                                                                 \n",
       "Abnormal            6.215757           15.669185           37.613416   \n",
       "Normal              6.499049           18.372682           38.527948   \n",
       "\n",
       "          Vibration_sensor_2  Vibration_sensor_3  Vibration_sensor_4  \n",
       "Status                                                                \n",
       "Abnormal           58.505506           66.679536           36.893423  \n",
       "Normal             49.060657          193.136243           67.309371  "
      ]
     },
     "execution_count": 39,
     "metadata": {},
     "output_type": "execute_result"
    }
   ],
   "source": [
    "df2.groupby('Status').var()"
   ]
  },
  {
   "cell_type": "code",
   "execution_count": 40,
   "id": "c88fe5f4",
   "metadata": {},
   "outputs": [
    {
     "data": {
      "text/plain": [
       "<AxesSubplot:xlabel='Power_range_sensor_1', ylabel='Status'>"
      ]
     },
     "execution_count": 40,
     "metadata": {},
     "output_type": "execute_result"
    },
    {
     "data": {
      "image/png": "[encoded data removed]",
      "text/plain": [
       "<Figure size 432x288 with 1 Axes>"
      ]
     },
     "metadata": {
      "needs_background": "light"
     },
     "output_type": "display_data"
    }
   ],
   "source": [
    "sns.boxplot(x='Power_range_sensor_1', y='Status', data=df2)\n"
   ]
  },
  {
   "cell_type": "code",
   "execution_count": 41,
   "id": "f3bbdd4e",
   "metadata": {},
   "outputs": [
    {
     "data": {
      "text/plain": [
       "<AxesSubplot:xlabel='Power_range_sensor_2', ylabel='Status'>"
      ]
     },
     "execution_count": 41,
     "metadata": {},
     "output_type": "execute_result"
    },
    {
     "data": {
      "image/png": "[encoded data removed]",
      "text/plain": [
       "<Figure size 432x288 with 1 Axes>"
      ]
     },
     "metadata": {
      "needs_background": "light"
     },
     "output_type": "display_data"
    }
   ],
   "source": [
    "sns.boxplot(x='Power_range_sensor_2', y='Status', data=df2)"
   ]
  },
  {
   "cell_type": "code",
   "execution_count": 42,
   "id": "53cfe090",
   "metadata": {},
   "outputs": [
    {
     "data": {
      "text/plain": [
       "<AxesSubplot:xlabel='Power_range_sensor_3 ', ylabel='Status'>"
      ]
     },
     "execution_count": 42,
     "metadata": {},
     "output_type": "execute_result"
    },
    {
     "data": {
      "image/png": "[encoded data removed]",
      "text/plain": [
       "<Figure size 432x288 with 1 Axes>"
      ]
     },
     "metadata": {
      "needs_background": "light"
     },
     "output_type": "display_data"
    }
   ],
   "source": [
    "sns.boxplot(x='Power_range_sensor_3 ', y='Status', data=df2)"
   ]
  },
  {
   "cell_type": "code",
   "execution_count": 43,
   "id": "046ad78b",
   "metadata": {},
   "outputs": [
    {
     "data": {
      "text/plain": [
       "<AxesSubplot:xlabel='Power_range_sensor_4', ylabel='Status'>"
      ]
     },
     "execution_count": 43,
     "metadata": {},
     "output_type": "execute_result"
    },
    {
     "data": {
      "image/png": "[encoded data removed]",
      "text/plain": [
       "<Figure size 432x288 with 1 Axes>"
      ]
     },
     "metadata": {
      "needs_background": "light"
     },
     "output_type": "display_data"
    }
   ],
   "source": [
    "sns.boxplot(x='Power_range_sensor_4', y='Status', data=df2)"
   ]
  },
  {
   "cell_type": "code",
   "execution_count": 44,
   "id": "d9151ea1",
   "metadata": {},
   "outputs": [
    {
     "data": {
      "text/plain": [
       "<AxesSubplot:xlabel='Pressure _sensor_1', ylabel='Status'>"
      ]
     },
     "execution_count": 44,
     "metadata": {},
     "output_type": "execute_result"
    },
    {
     "data": {
      "image/png": "[encoded data removed]",
      "text/plain": [
       "<Figure size 432x288 with 1 Axes>"
      ]
     },
     "metadata": {
      "needs_background": "light"
     },
     "output_type": "display_data"
    }
   ],
   "source": [
    "sns.boxplot(x='Pressure _sensor_1', y='Status', data=df2)"
   ]
  },
  {
   "cell_type": "code",
   "execution_count": 45,
   "id": "11ddb07b",
   "metadata": {},
   "outputs": [
    {
     "data": {
      "text/plain": [
       "<AxesSubplot:xlabel='Pressure _sensor_2', ylabel='Status'>"
      ]
     },
     "execution_count": 45,
     "metadata": {},
     "output_type": "execute_result"
    },
    {
     "data": {
      "image/png": "[encoded data removed]",
      "text/plain": [
       "<Figure size 432x288 with 1 Axes>"
      ]
     },
     "metadata": {
      "needs_background": "light"
     },
     "output_type": "display_data"
    }
   ],
   "source": [
    "sns.boxplot(x='Pressure _sensor_2', y='Status', data=df2)"
   ]
  },
  {
   "cell_type": "code",
   "execution_count": 46,
   "id": "64db1eb3",
   "metadata": {},
   "outputs": [
    {
     "data": {
      "text/plain": [
       "<AxesSubplot:xlabel='Pressure _sensor_3', ylabel='Status'>"
      ]
     },
     "execution_count": 46,
     "metadata": {},
     "output_type": "execute_result"
    },
    {
     "data": {
      "image/png": "[encoded data removed]",
      "text/plain": [
       "<Figure size 432x288 with 1 Axes>"
      ]
     },
     "metadata": {
      "needs_background": "light"
     },
     "output_type": "display_data"
    }
   ],
   "source": [
    "sns.boxplot(x='Pressure _sensor_3', y='Status', data=df2)"
   ]
  },
  {
   "cell_type": "code",
   "execution_count": 47,
   "id": "63358eee",
   "metadata": {},
   "outputs": [
    {
     "data": {
      "text/plain": [
       "<AxesSubplot:xlabel='Pressure _sensor_4', ylabel='Status'>"
      ]
     },
     "execution_count": 47,
     "metadata": {},
     "output_type": "execute_result"
    },
    {
     "data": {
      "image/png": "[encoded data removed]",
      "text/plain": [
       "<Figure size 432x288 with 1 Axes>"
      ]
     },
     "metadata": {
      "needs_background": "light"
     },
     "output_type": "display_data"
    }
   ],
   "source": [
    "sns.boxplot(x='Pressure _sensor_4', y='Status', data=df2)"
   ]
  },
  {
   "cell_type": "code",
   "execution_count": 48,
   "id": "f7978dfc",
   "metadata": {},
   "outputs": [
    {
     "data": {
      "text/plain": [
       "<AxesSubplot:xlabel='Vibration_sensor_1', ylabel='Status'>"
      ]
     },
     "execution_count": 48,
     "metadata": {},
     "output_type": "execute_result"
    },
    {
     "data": {
      "image/png": "[encoded data removed]",
      "text/plain": [
       "<Figure size 432x288 with 1 Axes>"
      ]
     },
     "metadata": {
      "needs_background": "light"
     },
     "output_type": "display_data"
    }
   ],
   "source": [
    "sns.boxplot(x='Vibration_sensor_1', y='Status', data=df2)"
   ]
  },
  {
   "cell_type": "code",
   "execution_count": 49,
   "id": "a68f4c0d",
   "metadata": {},
   "outputs": [
    {
     "data": {
      "text/plain": [
       "<AxesSubplot:xlabel='Vibration_sensor_2', ylabel='Status'>"
      ]
     },
     "execution_count": 49,
     "metadata": {},
     "output_type": "execute_result"
    },
    {
     "data": {
      "image/png": "[encoded data removed]",
      "text/plain": [
       "<Figure size 432x288 with 1 Axes>"
      ]
     },
     "metadata": {
      "needs_background": "light"
     },
     "output_type": "display_data"
    }
   ],
   "source": [
    "sns.boxplot(x='Vibration_sensor_2', y='Status', data=df2)"
   ]
  },
  {
   "cell_type": "code",
   "execution_count": 50,
   "id": "ae215e83",
   "metadata": {},
   "outputs": [
    {
     "data": {
      "text/plain": [
       "<AxesSubplot:xlabel='Vibration_sensor_3', ylabel='Status'>"
      ]
     },
     "execution_count": 50,
     "metadata": {},
     "output_type": "execute_result"
    },
    {
     "data": {
      "image/png": "[encoded data removed]",
      "text/plain": [
       "<Figure size 432x288 with 1 Axes>"
      ]
     },
     "metadata": {
      "needs_background": "light"
     },
     "output_type": "display_data"
    }
   ],
   "source": [
    "sns.boxplot(x='Vibration_sensor_3', y='Status', data=df2)"
   ]
  },
  {
   "cell_type": "code",
   "execution_count": 51,
   "id": "fca61fae",
   "metadata": {},
   "outputs": [
    {
     "data": {
      "text/plain": [
       "<AxesSubplot:xlabel='Vibration_sensor_4', ylabel='Status'>"
      ]
     },
     "execution_count": 51,
     "metadata": {},
     "output_type": "execute_result"
    },
    {
     "data": {
      "image/png": "[encoded data removed]",
      "text/plain": [
       "<Figure size 432x288 with 1 Axes>"
      ]
     },
     "metadata": {
      "needs_background": "light"
     },
     "output_type": "display_data"
    }
   ],
   "source": [
    "sns.boxplot(x='Vibration_sensor_4', y='Status', data=df2)"
   ]
  },
  {
   "cell_type": "code",
   "execution_count": 52,
   "id": "d017f54b",
   "metadata": {},
   "outputs": [
    {
     "data": {
      "text/html": [
       "<div>\n",
       "<style scoped>\n",
       "    .dataframe tbody tr th:only-of-type {\n",
       "        vertical-align: middle;\n",
       "    }\n",
       "\n",
       "    .dataframe tbody tr th {\n",
       "        vertical-align: top;\n",
       "    }\n",
       "\n",
       "    .dataframe thead th {\n",
       "        text-align: right;\n",
       "    }\n",
       "</style>\n",
       "<table border=\"1\" class=\"dataframe\">\n",
       "  <thead>\n",
       "    <tr style=\"text-align: right;\">\n",
       "      <th></th>\n",
       "      <th>Power_range_sensor_1</th>\n",
       "      <th>Power_range_sensor_2</th>\n",
       "      <th>Power_range_sensor_3</th>\n",
       "      <th>Power_range_sensor_4</th>\n",
       "      <th>Pressure _sensor_1</th>\n",
       "      <th>Pressure _sensor_2</th>\n",
       "      <th>Pressure _sensor_3</th>\n",
       "      <th>Pressure _sensor_4</th>\n",
       "      <th>Vibration_sensor_1</th>\n",
       "      <th>Vibration_sensor_2</th>\n",
       "      <th>Vibration_sensor_3</th>\n",
       "      <th>Vibration_sensor_4</th>\n",
       "    </tr>\n",
       "  </thead>\n",
       "  <tbody>\n",
       "    <tr>\n",
       "      <th>Power_range_sensor_1</th>\n",
       "      <td>1.000000</td>\n",
       "      <td>0.095235</td>\n",
       "      <td>0.229943</td>\n",
       "      <td>0.499795</td>\n",
       "      <td>0.047805</td>\n",
       "      <td>0.652081</td>\n",
       "      <td>0.199811</td>\n",
       "      <td>0.406382</td>\n",
       "      <td>-0.152247</td>\n",
       "      <td>-0.003684</td>\n",
       "      <td>0.106583</td>\n",
       "      <td>0.014177</td>\n",
       "    </tr>\n",
       "    <tr>\n",
       "      <th>Power_range_sensor_2</th>\n",
       "      <td>0.095235</td>\n",
       "      <td>1.000000</td>\n",
       "      <td>0.693818</td>\n",
       "      <td>0.228438</td>\n",
       "      <td>-0.222160</td>\n",
       "      <td>0.112438</td>\n",
       "      <td>0.583086</td>\n",
       "      <td>0.136380</td>\n",
       "      <td>-0.119142</td>\n",
       "      <td>0.011013</td>\n",
       "      <td>0.243242</td>\n",
       "      <td>0.058244</td>\n",
       "    </tr>\n",
       "    <tr>\n",
       "      <th>Power_range_sensor_3</th>\n",
       "      <td>0.229943</td>\n",
       "      <td>0.693818</td>\n",
       "      <td>1.000000</td>\n",
       "      <td>0.083362</td>\n",
       "      <td>-0.255865</td>\n",
       "      <td>0.166549</td>\n",
       "      <td>0.362688</td>\n",
       "      <td>0.062479</td>\n",
       "      <td>-0.249057</td>\n",
       "      <td>-0.038320</td>\n",
       "      <td>0.215811</td>\n",
       "      <td>-0.023962</td>\n",
       "    </tr>\n",
       "    <tr>\n",
       "      <th>Power_range_sensor_4</th>\n",
       "      <td>0.499795</td>\n",
       "      <td>0.228438</td>\n",
       "      <td>0.083362</td>\n",
       "      <td>1.000000</td>\n",
       "      <td>0.150635</td>\n",
       "      <td>0.567705</td>\n",
       "      <td>-0.070547</td>\n",
       "      <td>0.823637</td>\n",
       "      <td>-0.114117</td>\n",
       "      <td>0.043383</td>\n",
       "      <td>0.330499</td>\n",
       "      <td>-0.018193</td>\n",
       "    </tr>\n",
       "    <tr>\n",
       "      <th>Pressure _sensor_1</th>\n",
       "      <td>0.047805</td>\n",
       "      <td>-0.222160</td>\n",
       "      <td>-0.255865</td>\n",
       "      <td>0.150635</td>\n",
       "      <td>1.000000</td>\n",
       "      <td>0.116859</td>\n",
       "      <td>-0.118713</td>\n",
       "      <td>0.131136</td>\n",
       "      <td>0.101438</td>\n",
       "      <td>-0.035196</td>\n",
       "      <td>-0.084575</td>\n",
       "      <td>-0.125128</td>\n",
       "    </tr>\n",
       "    <tr>\n",
       "      <th>Pressure _sensor_2</th>\n",
       "      <td>0.652081</td>\n",
       "      <td>0.112438</td>\n",
       "      <td>0.166549</td>\n",
       "      <td>0.567705</td>\n",
       "      <td>0.116859</td>\n",
       "      <td>1.000000</td>\n",
       "      <td>0.091341</td>\n",
       "      <td>0.571403</td>\n",
       "      <td>-0.099950</td>\n",
       "      <td>-0.027698</td>\n",
       "      <td>0.011015</td>\n",
       "      <td>0.001189</td>\n",
       "    </tr>\n",
       "    <tr>\n",
       "      <th>Pressure _sensor_3</th>\n",
       "      <td>0.199811</td>\n",
       "      <td>0.583086</td>\n",
       "      <td>0.362688</td>\n",
       "      <td>-0.070547</td>\n",
       "      <td>-0.118713</td>\n",
       "      <td>0.091341</td>\n",
       "      <td>1.000000</td>\n",
       "      <td>0.001591</td>\n",
       "      <td>0.016497</td>\n",
       "      <td>0.029766</td>\n",
       "      <td>0.019993</td>\n",
       "      <td>0.105642</td>\n",
       "    </tr>\n",
       "    <tr>\n",
       "      <th>Pressure _sensor_4</th>\n",
       "      <td>0.406382</td>\n",
       "      <td>0.136380</td>\n",
       "      <td>0.062479</td>\n",
       "      <td>0.823637</td>\n",
       "      <td>0.131136</td>\n",
       "      <td>0.571403</td>\n",
       "      <td>0.001591</td>\n",
       "      <td>1.000000</td>\n",
       "      <td>-0.112696</td>\n",
       "      <td>0.010560</td>\n",
       "      <td>0.191842</td>\n",
       "      <td>0.047000</td>\n",
       "    </tr>\n",
       "    <tr>\n",
       "      <th>Vibration_sensor_1</th>\n",
       "      <td>-0.152247</td>\n",
       "      <td>-0.119142</td>\n",
       "      <td>-0.249057</td>\n",
       "      <td>-0.114117</td>\n",
       "      <td>0.101438</td>\n",
       "      <td>-0.099950</td>\n",
       "      <td>0.016497</td>\n",
       "      <td>-0.112696</td>\n",
       "      <td>1.000000</td>\n",
       "      <td>-0.045857</td>\n",
       "      <td>-0.076277</td>\n",
       "      <td>0.026480</td>\n",
       "    </tr>\n",
       "    <tr>\n",
       "      <th>Vibration_sensor_2</th>\n",
       "      <td>-0.003684</td>\n",
       "      <td>0.011013</td>\n",
       "      <td>-0.038320</td>\n",
       "      <td>0.043383</td>\n",
       "      <td>-0.035196</td>\n",
       "      <td>-0.027698</td>\n",
       "      <td>0.029766</td>\n",
       "      <td>0.010560</td>\n",
       "      <td>-0.045857</td>\n",
       "      <td>1.000000</td>\n",
       "      <td>0.103704</td>\n",
       "      <td>-0.023290</td>\n",
       "    </tr>\n",
       "    <tr>\n",
       "      <th>Vibration_sensor_3</th>\n",
       "      <td>0.106583</td>\n",
       "      <td>0.243242</td>\n",
       "      <td>0.215811</td>\n",
       "      <td>0.330499</td>\n",
       "      <td>-0.084575</td>\n",
       "      <td>0.011015</td>\n",
       "      <td>0.019993</td>\n",
       "      <td>0.191842</td>\n",
       "      <td>-0.076277</td>\n",
       "      <td>0.103704</td>\n",
       "      <td>1.000000</td>\n",
       "      <td>-0.015536</td>\n",
       "    </tr>\n",
       "    <tr>\n",
       "      <th>Vibration_sensor_4</th>\n",
       "      <td>0.014177</td>\n",
       "      <td>0.058244</td>\n",
       "      <td>-0.023962</td>\n",
       "      <td>-0.018193</td>\n",
       "      <td>-0.125128</td>\n",
       "      <td>0.001189</td>\n",
       "      <td>0.105642</td>\n",
       "      <td>0.047000</td>\n",
       "      <td>0.026480</td>\n",
       "      <td>-0.023290</td>\n",
       "      <td>-0.015536</td>\n",
       "      <td>1.000000</td>\n",
       "    </tr>\n",
       "  </tbody>\n",
       "</table>\n",
       "</div>"
      ],
      "text/plain": [
       "                       Power_range_sensor_1  Power_range_sensor_2  \\\n",
       "Power_range_sensor_1               1.000000              0.095235   \n",
       "Power_range_sensor_2               0.095235              1.000000   \n",
       "Power_range_sensor_3               0.229943              0.693818   \n",
       "Power_range_sensor_4               0.499795              0.228438   \n",
       "Pressure _sensor_1                 0.047805             -0.222160   \n",
       "Pressure _sensor_2                 0.652081              0.112438   \n",
       "Pressure _sensor_3                 0.199811              0.583086   \n",
       "Pressure _sensor_4                 0.406382              0.136380   \n",
       "Vibration_sensor_1                -0.152247             -0.119142   \n",
       "Vibration_sensor_2                -0.003684              0.011013   \n",
       "Vibration_sensor_3                 0.106583              0.243242   \n",
       "Vibration_sensor_4                 0.014177              0.058244   \n",
       "\n",
       "                       Power_range_sensor_3   Power_range_sensor_4  \\\n",
       "Power_range_sensor_1                0.229943              0.499795   \n",
       "Power_range_sensor_2                0.693818              0.228438   \n",
       "Power_range_sensor_3                1.000000              0.083362   \n",
       "Power_range_sensor_4                0.083362              1.000000   \n",
       "Pressure _sensor_1                 -0.255865              0.150635   \n",
       "Pressure _sensor_2                  0.166549              0.567705   \n",
       "Pressure _sensor_3                  0.362688             -0.070547   \n",
       "Pressure _sensor_4                  0.062479              0.823637   \n",
       "Vibration_sensor_1                 -0.249057             -0.114117   \n",
       "Vibration_sensor_2                 -0.038320              0.043383   \n",
       "Vibration_sensor_3                  0.215811              0.330499   \n",
       "Vibration_sensor_4                 -0.023962             -0.018193   \n",
       "\n",
       "                       Pressure _sensor_1  Pressure _sensor_2  \\\n",
       "Power_range_sensor_1             0.047805            0.652081   \n",
       "Power_range_sensor_2            -0.222160            0.112438   \n",
       "Power_range_sensor_3            -0.255865            0.166549   \n",
       "Power_range_sensor_4             0.150635            0.567705   \n",
       "Pressure _sensor_1               1.000000            0.116859   \n",
       "Pressure _sensor_2               0.116859            1.000000   \n",
       "Pressure _sensor_3              -0.118713            0.091341   \n",
       "Pressure _sensor_4               0.131136            0.571403   \n",
       "Vibration_sensor_1               0.101438           -0.099950   \n",
       "Vibration_sensor_2              -0.035196           -0.027698   \n",
       "Vibration_sensor_3              -0.084575            0.011015   \n",
       "Vibration_sensor_4              -0.125128            0.001189   \n",
       "\n",
       "                       Pressure _sensor_3  Pressure _sensor_4  \\\n",
       "Power_range_sensor_1             0.199811            0.406382   \n",
       "Power_range_sensor_2             0.583086            0.136380   \n",
       "Power_range_sensor_3             0.362688            0.062479   \n",
       "Power_range_sensor_4            -0.070547            0.823637   \n",
       "Pressure _sensor_1              -0.118713            0.131136   \n",
       "Pressure _sensor_2               0.091341            0.571403   \n",
       "Pressure _sensor_3               1.000000            0.001591   \n",
       "Pressure _sensor_4               0.001591            1.000000   \n",
       "Vibration_sensor_1               0.016497           -0.112696   \n",
       "Vibration_sensor_2               0.029766            0.010560   \n",
       "Vibration_sensor_3               0.019993            0.191842   \n",
       "Vibration_sensor_4               0.105642            0.047000   \n",
       "\n",
       "                       Vibration_sensor_1  Vibration_sensor_2  \\\n",
       "Power_range_sensor_1            -0.152247           -0.003684   \n",
       "Power_range_sensor_2            -0.119142            0.011013   \n",
       "Power_range_sensor_3            -0.249057           -0.038320   \n",
       "Power_range_sensor_4            -0.114117            0.043383   \n",
       "Pressure _sensor_1               0.101438           -0.035196   \n",
       "Pressure _sensor_2              -0.099950           -0.027698   \n",
       "Pressure _sensor_3               0.016497            0.029766   \n",
       "Pressure _sensor_4              -0.112696            0.010560   \n",
       "Vibration_sensor_1               1.000000           -0.045857   \n",
       "Vibration_sensor_2              -0.045857            1.000000   \n",
       "Vibration_sensor_3              -0.076277            0.103704   \n",
       "Vibration_sensor_4               0.026480           -0.023290   \n",
       "\n",
       "                       Vibration_sensor_3  Vibration_sensor_4  \n",
       "Power_range_sensor_1             0.106583            0.014177  \n",
       "Power_range_sensor_2             0.243242            0.058244  \n",
       "Power_range_sensor_3             0.215811           -0.023962  \n",
       "Power_range_sensor_4             0.330499           -0.018193  \n",
       "Pressure _sensor_1              -0.084575           -0.125128  \n",
       "Pressure _sensor_2               0.011015            0.001189  \n",
       "Pressure _sensor_3               0.019993            0.105642  \n",
       "Pressure _sensor_4               0.191842            0.047000  \n",
       "Vibration_sensor_1              -0.076277            0.026480  \n",
       "Vibration_sensor_2               0.103704           -0.023290  \n",
       "Vibration_sensor_3               1.000000           -0.015536  \n",
       "Vibration_sensor_4              -0.015536            1.000000  "
      ]
     },
     "execution_count": 52,
     "metadata": {},
     "output_type": "execute_result"
    }
   ],
   "source": [
    "df2.corr()"
   ]
  },
  {
   "cell_type": "code",
   "execution_count": 53,
   "id": "4913bd95",
   "metadata": {},
   "outputs": [],
   "source": [
    "import math\n",
    "shuffled = df2.sample(frac=1)\n",
    "totalSize = len(shuffled)\n",
    "trainSize = math.floor(0.7*totalSize)\n",
    "\n",
    "train = df2.head(trainSize)\n",
    "test = df2.tail(len(shuffled) - trainSize)"
   ]
  },
  {
   "cell_type": "code",
   "execution_count": 54,
   "id": "b2f58c0f",
   "metadata": {},
   "outputs": [
    {
     "data": {
      "text/plain": [
       "Status                   697\n",
       "Power_range_sensor_1     697\n",
       "Power_range_sensor_2     697\n",
       "Power_range_sensor_3     697\n",
       "Power_range_sensor_4     697\n",
       "Pressure _sensor_1       697\n",
       "Pressure _sensor_2       697\n",
       "Pressure _sensor_3       697\n",
       "Pressure _sensor_4       697\n",
       "Vibration_sensor_1       697\n",
       "Vibration_sensor_2       697\n",
       "Vibration_sensor_3       697\n",
       "Vibration_sensor_4       697\n",
       "dtype: int64"
      ]
     },
     "execution_count": 54,
     "metadata": {},
     "output_type": "execute_result"
    }
   ],
   "source": [
    "train.count()"
   ]
  },
  {
   "cell_type": "code",
   "execution_count": 55,
   "id": "a5c9dd7c",
   "metadata": {},
   "outputs": [
    {
     "data": {
      "text/plain": [
       "Status                   299\n",
       "Power_range_sensor_1     299\n",
       "Power_range_sensor_2     299\n",
       "Power_range_sensor_3     299\n",
       "Power_range_sensor_4     299\n",
       "Pressure _sensor_1       299\n",
       "Pressure _sensor_2       299\n",
       "Pressure _sensor_3       299\n",
       "Pressure _sensor_4       299\n",
       "Vibration_sensor_1       299\n",
       "Vibration_sensor_2       299\n",
       "Vibration_sensor_3       299\n",
       "Vibration_sensor_4       299\n",
       "dtype: int64"
      ]
     },
     "execution_count": 55,
     "metadata": {},
     "output_type": "execute_result"
    }
   ],
   "source": [
    "test.count()"
   ]
  },
  {
   "cell_type": "code",
   "execution_count": 56,
   "id": "b1280c44",
   "metadata": {},
   "outputs": [
    {
     "data": {
      "text/html": [
       "<div>\n",
       "<style scoped>\n",
       "    .dataframe tbody tr th:only-of-type {\n",
       "        vertical-align: middle;\n",
       "    }\n",
       "\n",
       "    .dataframe tbody tr th {\n",
       "        vertical-align: top;\n",
       "    }\n",
       "\n",
       "    .dataframe thead th {\n",
       "        text-align: right;\n",
       "    }\n",
       "</style>\n",
       "<table border=\"1\" class=\"dataframe\">\n",
       "  <thead>\n",
       "    <tr style=\"text-align: right;\">\n",
       "      <th></th>\n",
       "      <th>Power_range_sensor_1</th>\n",
       "      <th>Power_range_sensor_2</th>\n",
       "      <th>Power_range_sensor_3</th>\n",
       "      <th>Power_range_sensor_4</th>\n",
       "      <th>Pressure _sensor_1</th>\n",
       "      <th>Pressure _sensor_2</th>\n",
       "      <th>Pressure _sensor_3</th>\n",
       "      <th>Pressure _sensor_4</th>\n",
       "      <th>Vibration_sensor_1</th>\n",
       "      <th>Vibration_sensor_2</th>\n",
       "      <th>Vibration_sensor_3</th>\n",
       "      <th>Vibration_sensor_4</th>\n",
       "    </tr>\n",
       "    <tr>\n",
       "      <th>Status</th>\n",
       "      <th></th>\n",
       "      <th></th>\n",
       "      <th></th>\n",
       "      <th></th>\n",
       "      <th></th>\n",
       "      <th></th>\n",
       "      <th></th>\n",
       "      <th></th>\n",
       "      <th></th>\n",
       "      <th></th>\n",
       "      <th></th>\n",
       "      <th></th>\n",
       "    </tr>\n",
       "  </thead>\n",
       "  <tbody>\n",
       "    <tr>\n",
       "      <th>Abnormal</th>\n",
       "      <td>199</td>\n",
       "      <td>199</td>\n",
       "      <td>199</td>\n",
       "      <td>199</td>\n",
       "      <td>199</td>\n",
       "      <td>199</td>\n",
       "      <td>199</td>\n",
       "      <td>199</td>\n",
       "      <td>199</td>\n",
       "      <td>199</td>\n",
       "      <td>199</td>\n",
       "      <td>199</td>\n",
       "    </tr>\n",
       "    <tr>\n",
       "      <th>Normal</th>\n",
       "      <td>498</td>\n",
       "      <td>498</td>\n",
       "      <td>498</td>\n",
       "      <td>498</td>\n",
       "      <td>498</td>\n",
       "      <td>498</td>\n",
       "      <td>498</td>\n",
       "      <td>498</td>\n",
       "      <td>498</td>\n",
       "      <td>498</td>\n",
       "      <td>498</td>\n",
       "      <td>498</td>\n",
       "    </tr>\n",
       "  </tbody>\n",
       "</table>\n",
       "</div>"
      ],
      "text/plain": [
       "          Power_range_sensor_1  Power_range_sensor_2  Power_range_sensor_3   \\\n",
       "Status                                                                        \n",
       "Abnormal                   199                   199                    199   \n",
       "Normal                     498                   498                    498   \n",
       "\n",
       "          Power_range_sensor_4  Pressure _sensor_1  Pressure _sensor_2  \\\n",
       "Status                                                                   \n",
       "Abnormal                   199                 199                 199   \n",
       "Normal                     498                 498                 498   \n",
       "\n",
       "          Pressure _sensor_3  Pressure _sensor_4  Vibration_sensor_1  \\\n",
       "Status                                                                 \n",
       "Abnormal                 199                 199                 199   \n",
       "Normal                   498                 498                 498   \n",
       "\n",
       "          Vibration_sensor_2  Vibration_sensor_3  Vibration_sensor_4  \n",
       "Status                                                                \n",
       "Abnormal                 199                 199                 199  \n",
       "Normal                   498                 498                 498  "
      ]
     },
     "execution_count": 56,
     "metadata": {},
     "output_type": "execute_result"
    }
   ],
   "source": [
    "train.groupby('Status').count()"
   ]
  },
  {
   "cell_type": "code",
   "execution_count": 57,
   "id": "3a7d608e",
   "metadata": {},
   "outputs": [
    {
     "data": {
      "text/html": [
       "<div>\n",
       "<style scoped>\n",
       "    .dataframe tbody tr th:only-of-type {\n",
       "        vertical-align: middle;\n",
       "    }\n",
       "\n",
       "    .dataframe tbody tr th {\n",
       "        vertical-align: top;\n",
       "    }\n",
       "\n",
       "    .dataframe thead th {\n",
       "        text-align: right;\n",
       "    }\n",
       "</style>\n",
       "<table border=\"1\" class=\"dataframe\">\n",
       "  <thead>\n",
       "    <tr style=\"text-align: right;\">\n",
       "      <th></th>\n",
       "      <th>Power_range_sensor_1</th>\n",
       "      <th>Power_range_sensor_2</th>\n",
       "      <th>Power_range_sensor_3</th>\n",
       "      <th>Power_range_sensor_4</th>\n",
       "      <th>Pressure _sensor_1</th>\n",
       "      <th>Pressure _sensor_2</th>\n",
       "      <th>Pressure _sensor_3</th>\n",
       "      <th>Pressure _sensor_4</th>\n",
       "      <th>Vibration_sensor_1</th>\n",
       "      <th>Vibration_sensor_2</th>\n",
       "      <th>Vibration_sensor_3</th>\n",
       "      <th>Vibration_sensor_4</th>\n",
       "    </tr>\n",
       "    <tr>\n",
       "      <th>Status</th>\n",
       "      <th></th>\n",
       "      <th></th>\n",
       "      <th></th>\n",
       "      <th></th>\n",
       "      <th></th>\n",
       "      <th></th>\n",
       "      <th></th>\n",
       "      <th></th>\n",
       "      <th></th>\n",
       "      <th></th>\n",
       "      <th></th>\n",
       "      <th></th>\n",
       "    </tr>\n",
       "  </thead>\n",
       "  <tbody>\n",
       "    <tr>\n",
       "      <th>Abnormal</th>\n",
       "      <td>299</td>\n",
       "      <td>299</td>\n",
       "      <td>299</td>\n",
       "      <td>299</td>\n",
       "      <td>299</td>\n",
       "      <td>299</td>\n",
       "      <td>299</td>\n",
       "      <td>299</td>\n",
       "      <td>299</td>\n",
       "      <td>299</td>\n",
       "      <td>299</td>\n",
       "      <td>299</td>\n",
       "    </tr>\n",
       "  </tbody>\n",
       "</table>\n",
       "</div>"
      ],
      "text/plain": [
       "          Power_range_sensor_1  Power_range_sensor_2  Power_range_sensor_3   \\\n",
       "Status                                                                        \n",
       "Abnormal                   299                   299                    299   \n",
       "\n",
       "          Power_range_sensor_4  Pressure _sensor_1  Pressure _sensor_2  \\\n",
       "Status                                                                   \n",
       "Abnormal                   299                 299                 299   \n",
       "\n",
       "          Pressure _sensor_3  Pressure _sensor_4  Vibration_sensor_1  \\\n",
       "Status                                                                 \n",
       "Abnormal                 299                 299                 299   \n",
       "\n",
       "          Vibration_sensor_2  Vibration_sensor_3  Vibration_sensor_4  \n",
       "Status                                                                \n",
       "Abnormal                 299                 299                 299  "
      ]
     },
     "execution_count": 57,
     "metadata": {},
     "output_type": "execute_result"
    }
   ],
   "source": [
    "test.groupby(\"Status\").count()"
   ]
  },
  {
   "cell_type": "code",
   "execution_count": 56,
   "id": "7c994b06",
   "metadata": {},
   "outputs": [],
   "source": [
    "from sklearn.metrics import confusion_matrix\n",
    "\n",
    "X = df2[['Power_range_sensor_1', 'Power_range_sensor_2', 'Power_range_sensor_3 ', 'Power_range_sensor_4', 'Pressure _sensor_1', 'Pressure _sensor_2', 'Pressure _sensor_3', 'Pressure _sensor_4', 'Vibration_sensor_1', 'Vibration_sensor_2', 'Vibration_sensor_3', 'Vibration_sensor_4']].values"
   ]
  },
  {
   "cell_type": "code",
   "execution_count": 57,
   "id": "bbb54653",
   "metadata": {},
   "outputs": [
    {
     "data": {
      "text/plain": [
       "0    Normal\n",
       "1    Normal\n",
       "2    Normal\n",
       "3    Normal\n",
       "4    Normal\n",
       "Name: Status, dtype: object"
      ]
     },
     "execution_count": 57,
     "metadata": {},
     "output_type": "execute_result"
    }
   ],
   "source": [
    "from sklearn import preprocessing\n",
    "\n",
    "y = df2[\"Status\"]\n",
    "\n",
    "y[0:5]"
   ]
  },
  {
   "cell_type": "code",
   "execution_count": 100,
   "id": "e28e75d7",
   "metadata": {},
   "outputs": [
    {
     "name": "stdout",
     "output_type": "stream",
     "text": [
      "(697, 12)\n",
      "(299, 12)\n",
      "(697,)\n",
      "(299,)\n"
     ]
    }
   ],
   "source": [
    "from sklearn.model_selection import train_test_split\n",
    "\n",
    "X_train, X_test, y_train, y_test = train_test_split(X, y, test_size=0.3)\n",
    "\n",
    "print(X_train.shape)\n",
    "print(X_test.shape)\n",
    "print(y_train.shape)\n",
    "print(y_test.shape)"
   ]
  },
  {
   "cell_type": "code",
   "execution_count": 64,
   "id": "fce8b4d8",
   "metadata": {},
   "outputs": [
    {
     "data": {
      "text/plain": [
       "array(['Abnormal', 'Normal', 'Normal', 'Normal', 'Normal', 'Normal',\n",
       "       'Abnormal', 'Normal', 'Abnormal', 'Abnormal', 'Abnormal', 'Normal',\n",
       "       'Normal', 'Normal', 'Normal', 'Abnormal', 'Abnormal', 'Normal',\n",
       "       'Normal', 'Abnormal', 'Normal', 'Normal', 'Normal', 'Normal',\n",
       "       'Abnormal', 'Abnormal', 'Normal', 'Abnormal', 'Normal', 'Normal',\n",
       "       'Normal', 'Normal', 'Normal', 'Normal', 'Abnormal', 'Normal',\n",
       "       'Abnormal', 'Abnormal', 'Abnormal', 'Normal', 'Abnormal', 'Normal',\n",
       "       'Abnormal', 'Abnormal', 'Normal', 'Normal', 'Normal', 'Normal',\n",
       "       'Normal', 'Normal', 'Abnormal', 'Abnormal', 'Normal', 'Abnormal',\n",
       "       'Abnormal', 'Normal', 'Normal', 'Normal', 'Abnormal', 'Abnormal',\n",
       "       'Normal', 'Abnormal', 'Normal', 'Normal', 'Abnormal', 'Normal',\n",
       "       'Abnormal', 'Normal', 'Normal', 'Abnormal', 'Abnormal', 'Normal',\n",
       "       'Abnormal', 'Abnormal', 'Abnormal', 'Abnormal', 'Normal', 'Normal',\n",
       "       'Abnormal', 'Normal', 'Normal', 'Normal', 'Normal', 'Normal',\n",
       "       'Normal', 'Abnormal', 'Normal', 'Abnormal', 'Abnormal', 'Abnormal',\n",
       "       'Normal', 'Normal', 'Normal', 'Normal', 'Normal', 'Normal',\n",
       "       'Normal', 'Normal', 'Normal', 'Normal', 'Normal', 'Abnormal',\n",
       "       'Normal', 'Normal', 'Abnormal', 'Normal', 'Normal', 'Abnormal',\n",
       "       'Normal', 'Normal', 'Normal', 'Normal', 'Normal', 'Normal',\n",
       "       'Abnormal', 'Abnormal', 'Abnormal', 'Abnormal', 'Normal',\n",
       "       'Abnormal', 'Normal', 'Normal', 'Abnormal', 'Abnormal', 'Normal',\n",
       "       'Abnormal', 'Abnormal', 'Normal', 'Normal', 'Normal', 'Normal',\n",
       "       'Abnormal', 'Normal', 'Normal', 'Normal', 'Abnormal', 'Abnormal',\n",
       "       'Normal', 'Normal', 'Normal', 'Normal', 'Normal', 'Abnormal',\n",
       "       'Normal', 'Normal', 'Abnormal', 'Abnormal', 'Normal', 'Normal',\n",
       "       'Abnormal', 'Normal', 'Abnormal', 'Abnormal', 'Abnormal', 'Normal',\n",
       "       'Normal', 'Normal', 'Abnormal', 'Normal', 'Normal', 'Abnormal',\n",
       "       'Abnormal', 'Normal', 'Normal', 'Normal', 'Normal', 'Normal',\n",
       "       'Abnormal', 'Normal', 'Normal', 'Abnormal', 'Normal', 'Abnormal',\n",
       "       'Abnormal', 'Normal', 'Abnormal', 'Normal', 'Normal', 'Abnormal',\n",
       "       'Normal', 'Normal', 'Normal', 'Normal', 'Abnormal', 'Normal',\n",
       "       'Abnormal', 'Normal', 'Abnormal', 'Abnormal', 'Abnormal', 'Normal',\n",
       "       'Abnormal', 'Normal', 'Normal', 'Normal', 'Abnormal', 'Normal',\n",
       "       'Abnormal', 'Abnormal', 'Normal', 'Normal', 'Normal', 'Normal',\n",
       "       'Normal', 'Normal', 'Normal', 'Abnormal', 'Normal', 'Normal',\n",
       "       'Normal', 'Abnormal', 'Abnormal', 'Abnormal', 'Abnormal', 'Normal',\n",
       "       'Normal', 'Normal', 'Normal', 'Abnormal', 'Abnormal', 'Abnormal',\n",
       "       'Normal', 'Abnormal', 'Abnormal', 'Abnormal', 'Normal', 'Abnormal',\n",
       "       'Abnormal', 'Abnormal', 'Abnormal', 'Normal', 'Abnormal', 'Normal',\n",
       "       'Abnormal', 'Normal', 'Abnormal', 'Abnormal', 'Abnormal',\n",
       "       'Abnormal', 'Normal', 'Normal', 'Normal', 'Normal', 'Abnormal',\n",
       "       'Abnormal', 'Normal', 'Normal', 'Abnormal', 'Normal', 'Normal',\n",
       "       'Abnormal', 'Abnormal', 'Abnormal', 'Abnormal', 'Abnormal',\n",
       "       'Abnormal', 'Normal', 'Normal', 'Normal', 'Abnormal', 'Abnormal',\n",
       "       'Abnormal', 'Normal', 'Normal', 'Normal', 'Abnormal', 'Normal',\n",
       "       'Normal', 'Normal', 'Normal', 'Abnormal', 'Normal', 'Abnormal',\n",
       "       'Normal', 'Abnormal', 'Abnormal', 'Abnormal', 'Normal', 'Normal',\n",
       "       'Abnormal', 'Normal', 'Normal', 'Normal', 'Abnormal', 'Normal',\n",
       "       'Normal', 'Normal', 'Abnormal', 'Normal', 'Normal', 'Normal',\n",
       "       'Normal', 'Normal', 'Abnormal', 'Abnormal', 'Abnormal', 'Normal',\n",
       "       'Abnormal', 'Normal'], dtype=object)"
      ]
     },
     "execution_count": 64,
     "metadata": {},
     "output_type": "execute_result"
    }
   ],
   "source": [
    "from sklearn.tree import DecisionTreeClassifier\n",
    "from sklearn import metrics\n",
    "\n",
    "statusTree = DecisionTreeClassifier(criterion=\"entropy\", max_depth=4)\n",
    "\n",
    "statusTree.fit(X_train, y_train)\n",
    "predicted = statusTree.predict(X_test)\n",
    "predicted"
   ]
  },
  {
   "cell_type": "markdown",
   "id": "30ce715e",
   "metadata": {},
   "source": [
    "from sklearn.metrics import confusion_matrix\n",
    "\n",
    "tn, fp, fn, tp = confusion_matrix(y_test, predicted).ravel()\n",
    "specificity = tn / (tn+fp)\n",
    "sensitivity = tp / (tp+fn)\n",
    "\n",
    "print(specificity)\n",
    "print(sensitivity)"
   ]
  },
  {
   "cell_type": "code",
   "execution_count": 71,
   "id": "8e8b7fce",
   "metadata": {},
   "outputs": [],
   "source": [
    "from sklearn.svm import SVC\n",
    "\n",
    "clf = SVC(C=1.0, kernel='rbf').fit(X_train, y_train)"
   ]
  },
  {
   "cell_type": "code",
   "execution_count": 72,
   "id": "3a611728",
   "metadata": {},
   "outputs": [
    {
     "data": {
      "text/plain": [
       "array(['Abnormal', 'Abnormal', 'Abnormal', 'Abnormal', 'Abnormal',\n",
       "       'Abnormal', 'Abnormal', 'Normal', 'Abnormal', 'Abnormal',\n",
       "       'Abnormal', 'Normal', 'Normal', 'Abnormal', 'Abnormal', 'Abnormal',\n",
       "       'Abnormal', 'Abnormal', 'Normal', 'Normal', 'Normal', 'Abnormal',\n",
       "       'Normal', 'Abnormal', 'Normal', 'Abnormal', 'Abnormal', 'Abnormal',\n",
       "       'Abnormal', 'Abnormal', 'Abnormal', 'Abnormal', 'Abnormal',\n",
       "       'Abnormal', 'Abnormal', 'Abnormal', 'Normal', 'Abnormal',\n",
       "       'Abnormal', 'Normal', 'Normal', 'Abnormal', 'Abnormal', 'Normal',\n",
       "       'Normal', 'Abnormal', 'Abnormal', 'Normal', 'Abnormal', 'Abnormal',\n",
       "       'Abnormal', 'Normal', 'Abnormal', 'Abnormal', 'Abnormal', 'Normal',\n",
       "       'Normal', 'Normal', 'Abnormal', 'Normal', 'Abnormal', 'Abnormal',\n",
       "       'Normal', 'Normal', 'Abnormal', 'Normal', 'Normal', 'Abnormal',\n",
       "       'Normal', 'Abnormal', 'Normal', 'Abnormal', 'Normal', 'Normal',\n",
       "       'Abnormal', 'Abnormal', 'Abnormal', 'Normal', 'Normal', 'Normal',\n",
       "       'Abnormal', 'Abnormal', 'Normal', 'Abnormal', 'Abnormal', 'Normal',\n",
       "       'Normal', 'Abnormal', 'Normal', 'Normal', 'Normal', 'Abnormal',\n",
       "       'Normal', 'Abnormal', 'Normal', 'Normal', 'Normal', 'Normal',\n",
       "       'Abnormal', 'Normal', 'Abnormal', 'Abnormal', 'Normal', 'Normal',\n",
       "       'Abnormal', 'Abnormal', 'Abnormal', 'Abnormal', 'Abnormal',\n",
       "       'Abnormal', 'Normal', 'Normal', 'Abnormal', 'Normal', 'Abnormal',\n",
       "       'Normal', 'Abnormal', 'Abnormal', 'Normal', 'Abnormal', 'Abnormal',\n",
       "       'Normal', 'Abnormal', 'Normal', 'Abnormal', 'Abnormal', 'Normal',\n",
       "       'Normal', 'Abnormal', 'Abnormal', 'Abnormal', 'Normal', 'Normal',\n",
       "       'Abnormal', 'Abnormal', 'Abnormal', 'Abnormal', 'Abnormal',\n",
       "       'Abnormal', 'Abnormal', 'Abnormal', 'Abnormal', 'Normal',\n",
       "       'Abnormal', 'Abnormal', 'Normal', 'Abnormal', 'Abnormal', 'Normal',\n",
       "       'Abnormal', 'Normal', 'Normal', 'Normal', 'Abnormal', 'Abnormal',\n",
       "       'Normal', 'Normal', 'Abnormal', 'Normal', 'Normal', 'Normal',\n",
       "       'Normal', 'Abnormal', 'Normal', 'Normal', 'Normal', 'Normal',\n",
       "       'Abnormal', 'Normal', 'Normal', 'Abnormal', 'Abnormal', 'Normal',\n",
       "       'Normal', 'Normal', 'Normal', 'Abnormal', 'Normal', 'Normal',\n",
       "       'Abnormal', 'Normal', 'Normal', 'Abnormal', 'Abnormal', 'Abnormal',\n",
       "       'Abnormal', 'Abnormal', 'Abnormal', 'Abnormal', 'Normal',\n",
       "       'Abnormal', 'Abnormal', 'Abnormal', 'Abnormal', 'Abnormal',\n",
       "       'Normal', 'Normal', 'Abnormal', 'Normal', 'Abnormal', 'Normal',\n",
       "       'Abnormal', 'Normal', 'Normal', 'Normal', 'Normal', 'Normal',\n",
       "       'Normal', 'Normal', 'Normal', 'Normal', 'Abnormal', 'Abnormal',\n",
       "       'Normal', 'Normal', 'Normal', 'Normal', 'Normal', 'Normal',\n",
       "       'Normal', 'Abnormal', 'Normal', 'Normal', 'Normal', 'Abnormal',\n",
       "       'Normal', 'Abnormal', 'Abnormal', 'Normal', 'Abnormal', 'Abnormal',\n",
       "       'Abnormal', 'Normal', 'Abnormal', 'Normal', 'Abnormal', 'Normal',\n",
       "       'Normal', 'Abnormal', 'Abnormal', 'Normal', 'Abnormal', 'Abnormal',\n",
       "       'Abnormal', 'Abnormal', 'Abnormal', 'Abnormal', 'Abnormal',\n",
       "       'Abnormal', 'Normal', 'Normal', 'Abnormal', 'Abnormal', 'Normal',\n",
       "       'Normal', 'Abnormal', 'Abnormal', 'Normal', 'Normal', 'Normal',\n",
       "       'Abnormal', 'Abnormal', 'Abnormal', 'Abnormal', 'Normal', 'Normal',\n",
       "       'Abnormal', 'Normal', 'Normal', 'Abnormal', 'Normal', 'Normal',\n",
       "       'Normal', 'Abnormal', 'Normal', 'Abnormal', 'Abnormal', 'Abnormal',\n",
       "       'Abnormal', 'Normal', 'Abnormal', 'Normal', 'Abnormal', 'Normal',\n",
       "       'Normal', 'Abnormal', 'Normal', 'Abnormal', 'Normal', 'Normal',\n",
       "       'Abnormal', 'Abnormal', 'Abnormal', 'Normal', 'Abnormal',\n",
       "       'Abnormal', 'Abnormal', 'Abnormal', 'Normal'], dtype=object)"
      ]
     },
     "execution_count": 72,
     "metadata": {},
     "output_type": "execute_result"
    }
   ],
   "source": [
    "predicted2 = clf.predict(X_test)\n",
    "predicted2"
   ]
  },
  {
   "cell_type": "code",
   "execution_count": 73,
   "id": "4b1e69d1",
   "metadata": {},
   "outputs": [
    {
     "name": "stdout",
     "output_type": "stream",
     "text": [
      "\n",
      "Accuracy:  0.7692307692307693\n"
     ]
    }
   ],
   "source": [
    "print(\"\\nAccuracy: \", metrics.accuracy_score(y_test, predicted2))"
   ]
  },
  {
   "cell_type": "code",
   "execution_count": 75,
   "id": "45329072",
   "metadata": {},
   "outputs": [
    {
     "name": "stdout",
     "output_type": "stream",
     "text": [
      "0.8051948051948052\n",
      "0.7310344827586207\n"
     ]
    }
   ],
   "source": [
    "tn2, fp2, fn2, tp2 = confusion_matrix(y_test, predicted2).ravel()\n",
    "specificity2 = tn2 / (tn2+fp2)\n",
    "sensitivity2 = tp2 / (tp2+fn2)\n",
    "\n",
    "print(specificity2)\n",
    "print(sensitivity2)"
   ]
  },
  {
   "cell_type": "code",
   "execution_count": 83,
   "id": "f0181a92",
   "metadata": {},
   "outputs": [
    {
     "data": {
      "text/plain": [
       "array(['Abnormal', 'Abnormal', 'Abnormal', 'Abnormal', 'Abnormal',\n",
       "       'Abnormal', 'Normal', 'Normal', 'Normal', 'Abnormal', 'Abnormal',\n",
       "       'Normal', 'Normal', 'Abnormal', 'Normal', 'Normal', 'Abnormal',\n",
       "       'Abnormal', 'Normal', 'Normal', 'Normal', 'Abnormal', 'Normal',\n",
       "       'Normal', 'Normal', 'Abnormal', 'Abnormal', 'Normal', 'Abnormal',\n",
       "       'Abnormal', 'Abnormal', 'Normal', 'Abnormal', 'Abnormal',\n",
       "       'Abnormal', 'Abnormal', 'Normal', 'Normal', 'Abnormal', 'Abnormal',\n",
       "       'Normal', 'Normal', 'Abnormal', 'Abnormal', 'Normal', 'Abnormal',\n",
       "       'Abnormal', 'Normal', 'Abnormal', 'Abnormal', 'Abnormal', 'Normal',\n",
       "       'Normal', 'Normal', 'Normal', 'Normal', 'Normal', 'Normal',\n",
       "       'Abnormal', 'Normal', 'Normal', 'Abnormal', 'Normal', 'Abnormal',\n",
       "       'Normal', 'Normal', 'Abnormal', 'Abnormal', 'Normal', 'Abnormal',\n",
       "       'Abnormal', 'Abnormal', 'Normal', 'Normal', 'Normal', 'Normal',\n",
       "       'Abnormal', 'Normal', 'Normal', 'Normal', 'Abnormal', 'Abnormal',\n",
       "       'Normal', 'Normal', 'Abnormal', 'Normal', 'Normal', 'Normal',\n",
       "       'Normal', 'Normal', 'Normal', 'Abnormal', 'Normal', 'Abnormal',\n",
       "       'Normal', 'Normal', 'Normal', 'Normal', 'Abnormal', 'Normal',\n",
       "       'Abnormal', 'Abnormal', 'Normal', 'Normal', 'Abnormal', 'Abnormal',\n",
       "       'Abnormal', 'Abnormal', 'Abnormal', 'Abnormal', 'Normal',\n",
       "       'Abnormal', 'Abnormal', 'Normal', 'Abnormal', 'Normal', 'Normal',\n",
       "       'Abnormal', 'Normal', 'Normal', 'Abnormal', 'Abnormal', 'Normal',\n",
       "       'Normal', 'Abnormal', 'Abnormal', 'Normal', 'Normal', 'Normal',\n",
       "       'Abnormal', 'Normal', 'Normal', 'Normal', 'Abnormal', 'Normal',\n",
       "       'Normal', 'Abnormal', 'Abnormal', 'Abnormal', 'Abnormal', 'Normal',\n",
       "       'Normal', 'Normal', 'Normal', 'Normal', 'Normal', 'Abnormal',\n",
       "       'Abnormal', 'Normal', 'Abnormal', 'Abnormal', 'Normal', 'Normal',\n",
       "       'Abnormal', 'Abnormal', 'Normal', 'Normal', 'Abnormal', 'Normal',\n",
       "       'Normal', 'Normal', 'Normal', 'Normal', 'Normal', 'Normal',\n",
       "       'Normal', 'Normal', 'Abnormal', 'Abnormal', 'Normal', 'Abnormal',\n",
       "       'Abnormal', 'Normal', 'Normal', 'Normal', 'Normal', 'Abnormal',\n",
       "       'Abnormal', 'Normal', 'Abnormal', 'Normal', 'Normal', 'Normal',\n",
       "       'Abnormal', 'Abnormal', 'Normal', 'Abnormal', 'Abnormal', 'Normal',\n",
       "       'Normal', 'Abnormal', 'Abnormal', 'Abnormal', 'Normal', 'Normal',\n",
       "       'Normal', 'Normal', 'Abnormal', 'Normal', 'Abnormal', 'Normal',\n",
       "       'Abnormal', 'Normal', 'Normal', 'Normal', 'Normal', 'Normal',\n",
       "       'Normal', 'Normal', 'Normal', 'Normal', 'Abnormal', 'Abnormal',\n",
       "       'Abnormal', 'Abnormal', 'Normal', 'Abnormal', 'Normal', 'Abnormal',\n",
       "       'Normal', 'Abnormal', 'Normal', 'Normal', 'Normal', 'Abnormal',\n",
       "       'Abnormal', 'Abnormal', 'Abnormal', 'Normal', 'Abnormal', 'Normal',\n",
       "       'Normal', 'Normal', 'Normal', 'Normal', 'Abnormal', 'Normal',\n",
       "       'Normal', 'Abnormal', 'Abnormal', 'Normal', 'Abnormal', 'Abnormal',\n",
       "       'Abnormal', 'Abnormal', 'Abnormal', 'Abnormal', 'Abnormal',\n",
       "       'Abnormal', 'Normal', 'Normal', 'Normal', 'Abnormal', 'Normal',\n",
       "       'Normal', 'Normal', 'Normal', 'Abnormal', 'Normal', 'Normal',\n",
       "       'Abnormal', 'Normal', 'Abnormal', 'Abnormal', 'Abnormal',\n",
       "       'Abnormal', 'Abnormal', 'Normal', 'Normal', 'Normal', 'Normal',\n",
       "       'Abnormal', 'Normal', 'Abnormal', 'Abnormal', 'Abnormal',\n",
       "       'Abnormal', 'Abnormal', 'Abnormal', 'Abnormal', 'Normal',\n",
       "       'Abnormal', 'Abnormal', 'Normal', 'Normal', 'Abnormal', 'Normal',\n",
       "       'Normal', 'Normal', 'Normal', 'Abnormal', 'Normal', 'Abnormal',\n",
       "       'Normal', 'Abnormal', 'Normal', 'Abnormal', 'Abnormal', 'Normal'],\n",
       "      dtype='<U8')"
      ]
     },
     "execution_count": 83,
     "metadata": {},
     "output_type": "execute_result"
    }
   ],
   "source": [
    "from sklearn.neural_network import MLPClassifier\n",
    "\n",
    "mlp = MLPClassifier(hidden_layer_sizes=(8,8,8), activation='relu', solver= 'adam', max_iter=3000)\n",
    "mlp.fit(X_train, y_train)\n",
    "\n",
    "predicted3 = mlp.predict(X_test)\n",
    "predicted3"
   ]
  },
  {
   "cell_type": "code",
   "execution_count": 84,
   "id": "fece152c",
   "metadata": {},
   "outputs": [
    {
     "name": "stdout",
     "output_type": "stream",
     "text": [
      "\n",
      "Accuracy:  0.7993311036789298\n"
     ]
    }
   ],
   "source": [
    "print(\"\\nAccuracy: \", metrics.accuracy_score(y_test, predicted3))"
   ]
  },
  {
   "cell_type": "code",
   "execution_count": 87,
   "id": "227e8f8f",
   "metadata": {},
   "outputs": [
    {
     "name": "stdout",
     "output_type": "stream",
     "text": [
      "0.7532467532467533\n",
      "0.8482758620689655\n"
     ]
    }
   ],
   "source": [
    "tn3, fp3, fn3, tp3 = confusion_matrix(y_test, predicted3).ravel()\n",
    "specificity3 = tn3 / (tn3+fp3)\n",
    "sensitivity3 = tp3 / (tp3+fn3)\n",
    "\n",
    "print(specificity3)\n",
    "print(sensitivity3)"
   ]
  },
  {
   "cell_type": "code",
   "execution_count": 98,
   "id": "72a04069",
   "metadata": {},
   "outputs": [
    {
     "data": {
      "text/html": [
       "<div>\n",
       "<style scoped>\n",
       "    .dataframe tbody tr th:only-of-type {\n",
       "        vertical-align: middle;\n",
       "    }\n",
       "\n",
       "    .dataframe tbody tr th {\n",
       "        vertical-align: top;\n",
       "    }\n",
       "\n",
       "    .dataframe thead th {\n",
       "        text-align: right;\n",
       "    }\n",
       "</style>\n",
       "<table border=\"1\" class=\"dataframe\">\n",
       "  <thead>\n",
       "    <tr style=\"text-align: right;\">\n",
       "      <th></th>\n",
       "      <th>Status</th>\n",
       "      <th>Power_range_sensor_1</th>\n",
       "      <th>Power_range_sensor_2</th>\n",
       "      <th>Power_range_sensor_3</th>\n",
       "      <th>Power_range_sensor_4</th>\n",
       "      <th>Pressure _sensor_1</th>\n",
       "      <th>Pressure _sensor_2</th>\n",
       "      <th>Pressure _sensor_3</th>\n",
       "      <th>Pressure _sensor_4</th>\n",
       "      <th>Vibration_sensor_1</th>\n",
       "      <th>Vibration_sensor_2</th>\n",
       "      <th>Vibration_sensor_3</th>\n",
       "      <th>Vibration_sensor_4</th>\n",
       "    </tr>\n",
       "  </thead>\n",
       "  <tbody>\n",
       "    <tr>\n",
       "      <th>0</th>\n",
       "      <td>Normal</td>\n",
       "      <td>2.093555</td>\n",
       "      <td>2.022642</td>\n",
       "      <td>6.002677</td>\n",
       "      <td>2.856402</td>\n",
       "      <td>9.501442</td>\n",
       "      <td>1.546302</td>\n",
       "      <td>2.173466</td>\n",
       "      <td>2.524177</td>\n",
       "      <td>5.259978</td>\n",
       "      <td>5.837257</td>\n",
       "      <td>8.931337</td>\n",
       "      <td>7.278084</td>\n",
       "    </tr>\n",
       "    <tr>\n",
       "      <th>1</th>\n",
       "      <td>Normal</td>\n",
       "      <td>9.706578</td>\n",
       "      <td>9.536684</td>\n",
       "      <td>12.143560</td>\n",
       "      <td>13.097169</td>\n",
       "      <td>45.422534</td>\n",
       "      <td>7.368119</td>\n",
       "      <td>10.118576</td>\n",
       "      <td>12.070053</td>\n",
       "      <td>25.162983</td>\n",
       "      <td>27.858310</td>\n",
       "      <td>42.540591</td>\n",
       "      <td>34.550579</td>\n",
       "    </tr>\n",
       "    <tr>\n",
       "      <th>2</th>\n",
       "      <td>Normal</td>\n",
       "      <td>2.962976</td>\n",
       "      <td>2.880759</td>\n",
       "      <td>6.703977</td>\n",
       "      <td>4.025916</td>\n",
       "      <td>13.603696</td>\n",
       "      <td>2.211164</td>\n",
       "      <td>3.080812</td>\n",
       "      <td>3.614333</td>\n",
       "      <td>7.532937</td>\n",
       "      <td>8.352101</td>\n",
       "      <td>12.769575</td>\n",
       "      <td>10.392652</td>\n",
       "    </tr>\n",
       "    <tr>\n",
       "      <th>3</th>\n",
       "      <td>Normal</td>\n",
       "      <td>11.267591</td>\n",
       "      <td>11.077401</td>\n",
       "      <td>13.402718</td>\n",
       "      <td>15.196987</td>\n",
       "      <td>52.787976</td>\n",
       "      <td>8.561853</td>\n",
       "      <td>11.747681</td>\n",
       "      <td>14.027387</td>\n",
       "      <td>29.243996</td>\n",
       "      <td>32.373617</td>\n",
       "      <td>49.432002</td>\n",
       "      <td>40.142668</td>\n",
       "    </tr>\n",
       "    <tr>\n",
       "      <th>4</th>\n",
       "      <td>Normal</td>\n",
       "      <td>2.717839</td>\n",
       "      <td>2.638809</td>\n",
       "      <td>6.506243</td>\n",
       "      <td>3.696167</td>\n",
       "      <td>12.447048</td>\n",
       "      <td>2.023703</td>\n",
       "      <td>2.824982</td>\n",
       "      <td>3.306959</td>\n",
       "      <td>6.892067</td>\n",
       "      <td>7.643031</td>\n",
       "      <td>11.687368</td>\n",
       "      <td>9.514487</td>\n",
       "    </tr>\n",
       "    <tr>\n",
       "      <th>...</th>\n",
       "      <td>...</td>\n",
       "      <td>...</td>\n",
       "      <td>...</td>\n",
       "      <td>...</td>\n",
       "      <td>...</td>\n",
       "      <td>...</td>\n",
       "      <td>...</td>\n",
       "      <td>...</td>\n",
       "      <td>...</td>\n",
       "      <td>...</td>\n",
       "      <td>...</td>\n",
       "      <td>...</td>\n",
       "      <td>...</td>\n",
       "    </tr>\n",
       "    <tr>\n",
       "      <th>999995</th>\n",
       "      <td>Normal</td>\n",
       "      <td>8.511451</td>\n",
       "      <td>8.357095</td>\n",
       "      <td>11.179536</td>\n",
       "      <td>11.489526</td>\n",
       "      <td>39.783476</td>\n",
       "      <td>6.454183</td>\n",
       "      <td>8.871316</td>\n",
       "      <td>10.571497</td>\n",
       "      <td>22.038518</td>\n",
       "      <td>24.401344</td>\n",
       "      <td>37.264456</td>\n",
       "      <td>30.269217</td>\n",
       "    </tr>\n",
       "    <tr>\n",
       "      <th>999996</th>\n",
       "      <td>Normal</td>\n",
       "      <td>4.445431</td>\n",
       "      <td>4.343940</td>\n",
       "      <td>7.899768</td>\n",
       "      <td>6.020062</td>\n",
       "      <td>20.598473</td>\n",
       "      <td>3.344824</td>\n",
       "      <td>4.627932</td>\n",
       "      <td>5.473165</td>\n",
       "      <td>11.408573</td>\n",
       "      <td>12.640177</td>\n",
       "      <td>19.314177</td>\n",
       "      <td>15.703321</td>\n",
       "    </tr>\n",
       "    <tr>\n",
       "      <th>999997</th>\n",
       "      <td>Normal</td>\n",
       "      <td>7.124611</td>\n",
       "      <td>6.988287</td>\n",
       "      <td>10.060872</td>\n",
       "      <td>9.623999</td>\n",
       "      <td>33.239848</td>\n",
       "      <td>5.393642</td>\n",
       "      <td>7.423981</td>\n",
       "      <td>8.832556</td>\n",
       "      <td>18.412852</td>\n",
       "      <td>20.389841</td>\n",
       "      <td>31.141968</td>\n",
       "      <td>25.301076</td>\n",
       "    </tr>\n",
       "    <tr>\n",
       "      <th>999998</th>\n",
       "      <td>Normal</td>\n",
       "      <td>3.818536</td>\n",
       "      <td>3.725195</td>\n",
       "      <td>7.394096</td>\n",
       "      <td>5.176785</td>\n",
       "      <td>17.640548</td>\n",
       "      <td>2.865426</td>\n",
       "      <td>3.973692</td>\n",
       "      <td>4.687109</td>\n",
       "      <td>9.769658</td>\n",
       "      <td>10.826851</td>\n",
       "      <td>16.546619</td>\n",
       "      <td>13.457565</td>\n",
       "    </tr>\n",
       "    <tr>\n",
       "      <th>999999</th>\n",
       "      <td>Normal</td>\n",
       "      <td>6.978821</td>\n",
       "      <td>6.844392</td>\n",
       "      <td>9.943273</td>\n",
       "      <td>9.427888</td>\n",
       "      <td>32.551956</td>\n",
       "      <td>5.282153</td>\n",
       "      <td>7.271831</td>\n",
       "      <td>8.649752</td>\n",
       "      <td>18.031708</td>\n",
       "      <td>19.968135</td>\n",
       "      <td>30.498347</td>\n",
       "      <td>24.778805</td>\n",
       "    </tr>\n",
       "  </tbody>\n",
       "</table>\n",
       "<p>1000000 rows × 13 columns</p>\n",
       "</div>"
      ],
      "text/plain": [
       "        Status  Power_range_sensor_1  Power_range_sensor_2  \\\n",
       "0       Normal              2.093555              2.022642   \n",
       "1       Normal              9.706578              9.536684   \n",
       "2       Normal              2.962976              2.880759   \n",
       "3       Normal             11.267591             11.077401   \n",
       "4       Normal              2.717839              2.638809   \n",
       "...        ...                   ...                   ...   \n",
       "999995  Normal              8.511451              8.357095   \n",
       "999996  Normal              4.445431              4.343940   \n",
       "999997  Normal              7.124611              6.988287   \n",
       "999998  Normal              3.818536              3.725195   \n",
       "999999  Normal              6.978821              6.844392   \n",
       "\n",
       "        Power_range_sensor_3   Power_range_sensor_4  Pressure _sensor_1  \\\n",
       "0                    6.002677              2.856402            9.501442   \n",
       "1                   12.143560             13.097169           45.422534   \n",
       "2                    6.703977              4.025916           13.603696   \n",
       "3                   13.402718             15.196987           52.787976   \n",
       "4                    6.506243              3.696167           12.447048   \n",
       "...                       ...                   ...                 ...   \n",
       "999995              11.179536             11.489526           39.783476   \n",
       "999996               7.899768              6.020062           20.598473   \n",
       "999997              10.060872              9.623999           33.239848   \n",
       "999998               7.394096              5.176785           17.640548   \n",
       "999999               9.943273              9.427888           32.551956   \n",
       "\n",
       "        Pressure _sensor_2  Pressure _sensor_3  Pressure _sensor_4  \\\n",
       "0                 1.546302            2.173466            2.524177   \n",
       "1                 7.368119           10.118576           12.070053   \n",
       "2                 2.211164            3.080812            3.614333   \n",
       "3                 8.561853           11.747681           14.027387   \n",
       "4                 2.023703            2.824982            3.306959   \n",
       "...                    ...                 ...                 ...   \n",
       "999995            6.454183            8.871316           10.571497   \n",
       "999996            3.344824            4.627932            5.473165   \n",
       "999997            5.393642            7.423981            8.832556   \n",
       "999998            2.865426            3.973692            4.687109   \n",
       "999999            5.282153            7.271831            8.649752   \n",
       "\n",
       "        Vibration_sensor_1  Vibration_sensor_2  Vibration_sensor_3  \\\n",
       "0                 5.259978            5.837257            8.931337   \n",
       "1                25.162983           27.858310           42.540591   \n",
       "2                 7.532937            8.352101           12.769575   \n",
       "3                29.243996           32.373617           49.432002   \n",
       "4                 6.892067            7.643031           11.687368   \n",
       "...                    ...                 ...                 ...   \n",
       "999995           22.038518           24.401344           37.264456   \n",
       "999996           11.408573           12.640177           19.314177   \n",
       "999997           18.412852           20.389841           31.141968   \n",
       "999998            9.769658           10.826851           16.546619   \n",
       "999999           18.031708           19.968135           30.498347   \n",
       "\n",
       "        Vibration_sensor_4  \n",
       "0                 7.278084  \n",
       "1                34.550579  \n",
       "2                10.392652  \n",
       "3                40.142668  \n",
       "4                 9.514487  \n",
       "...                    ...  \n",
       "999995           30.269217  \n",
       "999996           15.703321  \n",
       "999997           25.301076  \n",
       "999998           13.457565  \n",
       "999999           24.778805  \n",
       "\n",
       "[1000000 rows x 13 columns]"
      ]
     },
     "execution_count": 98,
     "metadata": {},
     "output_type": "execute_result"
    }
   ],
   "source": [
    "\n",
    "    "
   ]
  },
  {
   "cell_type": "code",
   "execution_count": null,
   "id": "5feac22c",
   "metadata": {},
   "outputs": [],
   "source": []
  }
 ],
 "metadata": {
  "kernelspec": {
   "display_name": "Python 3 (ipykernel)",
   "language": "python",
   "name": "python3"
  },
  "language_info": {
   "codemirror_mode": {
    "name": "ipython",
    "version": 3
   },
   "file_extension": ".py",
   "mimetype": "text/x-python",
   "name": "python",
   "nbconvert_exporter": "python",
   "pygments_lexer": "ipython3",
   "version": "3.9.7"
  }
 },
 "nbformat": 4,
 "nbformat_minor": 5
}
